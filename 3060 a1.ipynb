{
 "cells": [
  {
   "cell_type": "markdown",
   "metadata": {},
   "source": [
    "# Q1"
   ]
  },
  {
   "cell_type": "code",
   "execution_count": 374,
   "metadata": {},
   "outputs": [],
   "source": [
    "# NA volume\n",
    "import numpy as np\n"
   ]
  },
  {
   "cell_type": "code",
   "execution_count": 375,
   "metadata": {},
   "outputs": [],
   "source": [
    "nco=1.461\n",
    "ncl=1.444\n",
    "NA=np.sqrt(nco**2-ncl**2) # rad-> *180/pi=degree\n",
    "thitaz=np.arcsin(NA/nco)"
   ]
  },
  {
   "cell_type": "code",
   "execution_count": 376,
   "metadata": {},
   "outputs": [
    {
     "data": {
      "text/plain": [
       "0.2222273610516951"
      ]
     },
     "execution_count": 376,
     "metadata": {},
     "output_type": "execute_result"
    }
   ],
   "source": [
    "NA"
   ]
  },
  {
   "cell_type": "code",
   "execution_count": 379,
   "metadata": {},
   "outputs": [
    {
     "data": {
      "text/plain": [
       "81.25098824128843"
      ]
     },
     "execution_count": 379,
     "metadata": {},
     "output_type": "execute_result"
    }
   ],
   "source": [
    "a=ncl/nco\n",
    "np.arcsin(a)/np.pi*180"
   ]
  },
  {
   "cell_type": "code",
   "execution_count": 380,
   "metadata": {},
   "outputs": [
    {
     "data": {
      "text/plain": [
       "0.03312548876928417"
      ]
     },
     "execution_count": 380,
     "metadata": {},
     "output_type": "execute_result"
    }
   ],
   "source": [
    "(0.445/2.445)**2"
   ]
  },
  {
   "cell_type": "code",
   "execution_count": 373,
   "metadata": {},
   "outputs": [],
   "source": [
    "# dBm -> mW\n",
    "def dbmmw(x): #xdBm\n",
    "    return pow(10,x/10)\n",
    "# mW -> dBm\n",
    "def mwdbm(P):#PmW\n",
    "    return 10*(np.log(P)/np.log(10))"
   ]
  },
  {
   "cell_type": "code",
   "execution_count": 381,
   "metadata": {},
   "outputs": [],
   "source": [
    "#Attenuation\n",
    "def atten(P0,P):#dB\n",
    "    return -10*(np.log(P/P0)/np.log(10))\n",
    "def Pout(a,P0,L):#mW\n",
    "    return P*pow(10,-a*L/10)"
   ]
  },
  {
   "cell_type": "code",
   "execution_count": 389,
   "metadata": {},
   "outputs": [
    {
     "data": {
      "text/plain": [
       "8.461851356554709"
      ]
     },
     "execution_count": 389,
     "metadata": {},
     "output_type": "execute_result"
    }
   ],
   "source": [
    "atten(8,1.14)"
   ]
  },
  {
   "cell_type": "code",
   "execution_count": 392,
   "metadata": {},
   "outputs": [
    {
     "data": {
      "text/plain": [
       "26.85606042778037"
      ]
     },
     "execution_count": 392,
     "metadata": {},
     "output_type": "execute_result"
    }
   ],
   "source": [
    "atten(8,16.5e-3)"
   ]
  },
  {
   "cell_type": "markdown",
   "metadata": {},
   "source": [
    "# Q2"
   ]
  },
  {
   "cell_type": "code",
   "execution_count": 8,
   "metadata": {},
   "outputs": [],
   "source": [
    "#SNR   BER volume\n",
    "from scipy import special\n",
    "import numpy as np"
   ]
  },
  {
   "cell_type": "code",
   "execution_count": 9,
   "metadata": {},
   "outputs": [],
   "source": [
    "thigma=0.1  #amplitude noise variance\n",
    "Im=1\n",
    "Irms=Im/(2*np.sqrt(2))\n",
    "\n",
    "Psig=Irms**2\n",
    "Pn=thigma**2\n",
    "\n",
    "SNR=Psig/Pn\n",
    "\n",
    "BER=0.5*special.erfc(np.sqrt(SNR))"
   ]
  },
  {
   "cell_type": "code",
   "execution_count": 11,
   "metadata": {},
   "outputs": [
    {
     "data": {
      "text/plain": [
       "2.8665157187919545e-07"
      ]
     },
     "execution_count": 11,
     "metadata": {},
     "output_type": "execute_result"
    }
   ],
   "source": [
    "BER\n"
   ]
  },
  {
   "cell_type": "code",
   "execution_count": 14,
   "metadata": {},
   "outputs": [],
   "source": [
    "# X-SNR  Y-BER\n",
    "import matplotlib.pyplot as plt\n",
    "from scipy import special\n",
    "import numpy as np"
   ]
  },
  {
   "cell_type": "code",
   "execution_count": 16,
   "metadata": {},
   "outputs": [
    {
     "data": {
      "image/png": "[encoded data removed]",
      "text/plain": [
       "<Figure size 432x288 with 1 Axes>"
      ]
     },
     "metadata": {
      "needs_background": "light"
     },
     "output_type": "display_data"
    }
   ],
   "source": [
    "BER = lambda SNR:0.5*special.erfc(np.sqrt(SNR))\n",
    "SNR=np.linspace(0.001,20,100)\n",
    "plt.plot(SNR, BER(SNR))\n",
    "plt.axhline(0,color='Red')\n",
    "plt.grid()\n",
    "plt.xlabel('SNR')\n",
    "plt.ylabel('BER')\n",
    "plt.show()"
   ]
  },
  {
   "cell_type": "code",
   "execution_count": 17,
   "metadata": {},
   "outputs": [
    {
     "data": {
      "image/png": "[encoded data removed]",
      "text/plain": [
       "<Figure size 432x288 with 1 Axes>"
      ]
     },
     "metadata": {
      "needs_background": "light"
     },
     "output_type": "display_data"
    }
   ],
   "source": [
    "BER = lambda SNR:np.log(0.5*special.erfc(np.sqrt(SNR)))/np.log(10)\n",
    "SNR=np.linspace(0.001,20,100)\n",
    "plt.plot(SNR, BER(SNR))\n",
    "plt.axhline(0,color='Red')\n",
    "plt.grid()\n",
    "plt.xlabel('SNR')\n",
    "plt.ylabel('log(BER)')\n",
    "plt.show()"
   ]
  },
  {
   "cell_type": "markdown",
   "metadata": {},
   "source": [
    "# Q3"
   ]
  },
  {
   "cell_type": "code",
   "execution_count": 354,
   "metadata": {},
   "outputs": [],
   "source": [
    "import numpy as np\n",
    "import scipy.signal as sig\n",
    "import matplotlib.pyplot as plt"
   ]
  },
  {
   "cell_type": "code",
   "execution_count": 360,
   "metadata": {},
   "outputs": [],
   "source": [
    "\n",
    "nco=1.4440\n",
    "NA=0.22\n",
    "c=3e8\n",
    "d=1e3 #the length of fibre\n",
    "ncl=np.sqrt(nco**2-NA**2)\n",
    "bit_rate=1e7 #10MHz\n",
    "bit_cycle=(1/bit_rate)*1e9 #ns 100 ns\n",
    "time_range=10*bit_cycle  #xx*100\n",
    "#delta_t=bit_cycle/2\n",
    "delta_t=(d/c)*(nco-ncl)*(nco/ncl)*1e9\n",
    "\n",
    "def h(t):  #impulse response\n",
    "    return(np.heaviside(t,0)-np.heaviside(t-delta_t,0))/(delta_t)\n",
    "def waveform(t,bits):\n",
    "    bit=int(t/bit_cycle) # the order of bits\n",
    "    if bit< bits.size:\n",
    "        return bits[bit]\n",
    "    return 0\n",
    "def output(times, bits):\n",
    "    f_input=[]\n",
    "    for time in times:\n",
    "        f_input += [waveform(time,bits)]\n",
    "    f_input= np.array(f_input)  #list->ndarray\n",
    "    #plt.plot(times,output)\n",
    "    return np.convolve(h(times),f_input,mode='same')"
   ]
  },
  {
   "cell_type": "code",
   "execution_count": 361,
   "metadata": {},
   "outputs": [],
   "source": [
    "times=np.linspace(0,time_range,100)\n",
    "bits = np.random.randint(0,2,10)   # random integer in [0,2)"
   ]
  },
  {
   "cell_type": "code",
   "execution_count": 362,
   "metadata": {},
   "outputs": [
    {
     "data": {
      "text/plain": [
       "array([1, 1, 0, 1, 0, 0])"
      ]
     },
     "execution_count": 362,
     "metadata": {},
     "output_type": "execute_result"
    }
   ],
   "source": [
    "bits[-6:]"
   ]
  },
  {
   "cell_type": "code",
   "execution_count": 363,
   "metadata": {},
   "outputs": [
    {
     "data": {
      "text/plain": [
       "<function matplotlib.pyplot.show(*args, **kw)>"
      ]
     },
     "execution_count": 363,
     "metadata": {},
     "output_type": "execute_result"
    },
    {
     "data": {
      "image/png": "[encoded data removed]",
      "text/plain": [
       "<Figure size 432x288 with 1 Axes>"
      ]
     },
     "metadata": {
      "needs_background": "light"
     },
     "output_type": "display_data"
    }
   ],
   "source": [
    "plt.plot(times,output(times,bits))# 1-x 2-y\n",
    "plt.xlabel('time (ns)')\n",
    "plt.show"
   ]
  },
  {
   "cell_type": "code",
   "execution_count": 370,
   "metadata": {},
   "outputs": [
    {
     "data": {
      "text/plain": [
       "<function matplotlib.pyplot.show(*args, **kw)>"
      ]
     },
     "execution_count": 370,
     "metadata": {},
     "output_type": "execute_result"
    },
    {
     "data": {
      "image/png": "[encoded data removed]",
      "text/plain": [
       "<Figure size 432x288 with 1 Axes>"
      ]
     },
     "metadata": {
      "needs_background": "light"
     },
     "output_type": "display_data"
    }
   ],
   "source": [
    "for i in range(20):\n",
    "    bits = np.random.randint(0,2,10)   # random integer in [0,2)\n",
    "    plt.plot(times,output(times,bits))# 1-x 2-y\n",
    "plt.xlabel('time (ns)')\n",
    "plt.show"
   ]
  },
  {
   "cell_type": "code",
   "execution_count": 371,
   "metadata": {},
   "outputs": [
    {
     "data": {
      "text/plain": [
       "99.2"
      ]
     },
     "execution_count": 371,
     "metadata": {},
     "output_type": "execute_result"
    }
   ],
   "source": []
  },
  {
   "cell_type": "code",
   "execution_count": null,
   "metadata": {},
   "outputs": [],
   "source": []
  },
  {
   "cell_type": "code",
   "execution_count": null,
   "metadata": {},
   "outputs": [],
   "source": []
  },
  {
   "cell_type": "code",
   "execution_count": null,
   "metadata": {},
   "outputs": [],
   "source": []
  },
  {
   "cell_type": "code",
   "execution_count": null,
   "metadata": {},
   "outputs": [],
   "source": []
  },
  {
   "cell_type": "code",
   "execution_count": null,
   "metadata": {},
   "outputs": [],
   "source": []
  }
 ],
 "metadata": {
  "kernelspec": {
   "display_name": "Python 3",
   "language": "python",
   "name": "python3"
  },
  "language_info": {
   "codemirror_mode": {
    "name": "ipython",
    "version": 3
   },
   "file_extension": ".py",
   "mimetype": "text/x-python",
   "name": "python",
   "nbconvert_exporter": "python",
   "pygments_lexer": "ipython3",
   "version": "3.7.7"
  }
 },
 "nbformat": 4,
 "nbformat_minor": 4
}
