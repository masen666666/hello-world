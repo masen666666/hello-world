{
 "cells": [
  {
   "cell_type": "code",
   "execution_count": null,
   "metadata": {},
   "outputs": [],
   "source": [
    "# import numpy as np\n",
    "from scipy import optimize, integrate\n",
    "from scipy.special import jv, kv\n",
    "#Define your fibre mode\n",
    "def mode3d(R, T):\n",
    "    U=2.0\n",
    "    W=\n",
    "    N=\n",
    "    v=\n",
    "    asoln=jv(v,usoln)/kv(v,wsoln)\n",
    "    mode3d=np.piecewise(R,[R<= 1.0,R>1.0],\n",
    "                       [lambda R:N*(jv(v,U*R)),\n",
    "                        lambda R:N*(asoln*kv(v,W*R))])\n",
    "    return mode3d\n",
    "#Define your gaussian light mode\n",
    "def gau(R, T, s):\n",
    "    return (1/s)*np.sqrt(1/np.pi)*np.exp(-R**2/(2*s**2))"
   ]
  }
 ],
 "metadata": {
  "kernelspec": {
   "display_name": "Python 3",
   "language": "python",
   "name": "python3"
  },
  "language_info": {
   "codemirror_mode": {
    "name": "ipython",
    "version": 3
   },
   "file_extension": ".py",
   "mimetype": "text/x-python",
   "name": "python",
   "nbconvert_exporter": "python",
   "pygments_lexer": "ipython3",
   "version": "3.7.7"
  }
 },
 "nbformat": 4,
 "nbformat_minor": 4
}
