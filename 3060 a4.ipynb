{
 "cells": [
  {
   "cell_type": "markdown",
   "metadata": {},
   "source": [
    "# Problem 1"
   ]
  },
  {
   "cell_type": "code",
   "execution_count": 1,
   "metadata": {},
   "outputs": [
    {
     "name": "stdout",
     "output_type": "stream",
     "text": [
      "L1-L2= 0.0005010374999999294 m\n"
     ]
    }
   ],
   "source": [
    "import numpy as np\n",
    "ne=1.5\n",
    "wl1=1550e-9\n",
    "wl2=1551.6e-9\n",
    "B1=2*np.pi*ne/wl1\n",
    "B2=2*np.pi*ne/wl2\n",
    "DL=np.pi/(B1-B2)     #L1-L2\n",
    "print('L1-L2=',DL,'m')"
   ]
  },
  {
   "cell_type": "markdown",
   "metadata": {},
   "source": [
    "## Problem 2"
   ]
  },
  {
   "cell_type": "code",
   "execution_count": 2,
   "metadata": {},
   "outputs": [],
   "source": [
    "import numpy as np\n",
    "from sympy.abc import o\n",
    "from sympy import Abs,Piecewise,sqrt, exp,pi,sin,cos,pprint, symbols"
   ]
  },
  {
   "cell_type": "code",
   "execution_count": 3,
   "metadata": {},
   "outputs": [
    {
     "name": "stdout",
     "output_type": "stream",
     "text": [
      "dphi=52.3598775598299⋅o\n",
      "o is omiga,rotation rate \n"
     ]
    }
   ],
   "source": [
    "#o=omiga  rotation rate\n",
    "r=0.25 #m\n",
    "L=4000 #m\n",
    "wl=800e-9 #m\n",
    "at=2.5e-3 #db/m\n",
    "c=3e8 \n",
    "Pin=10 # mW\n",
    "phi, delta_f=symbols('phi, delta_f')#x*pi - rad\n",
    "n=1 # ideal quantum efficiency\n",
    "h=6.626e-34\n",
    "q=1.6e-19\n",
    "\n",
    "A=np.pi*r**2\n",
    "N=L/(2*r*np.pi)\n",
    "dphi=8*np.pi*A*N*o/(wl*c)\n",
    "\n",
    "print('dphi=',end='')\n",
    "pprint(dphi)\n",
    "print('o is omiga,rotation rate ')"
   ]
  },
  {
   "cell_type": "code",
   "execution_count": 4,
   "metadata": {},
   "outputs": [
    {
     "name": "stdout",
     "output_type": "stream",
     "text": [
      "                          2                                                   \n",
      "- 6.45161290322581e-19⋅sin (52.3598775598299⋅o + φ) + 6.45161290322581e-19⋅cos\n",
      "\n",
      "2                        \n",
      " (52.3598775598299⋅o + φ)\n"
     ]
    }
   ],
   "source": [
    "loss=at*L\n",
    "\n",
    "P1=Pin*pow(10,(-at*L))*(cos(phi+dphi))**2\n",
    "P2=Pin*pow(10,(-at*L))*(sin(phi+dphi))**2\n",
    "delta_P=P1-P2\n",
    "Rd=n*wl/1240     #  n*q*wl/(h*c)  A/W\n",
    "delta_I=delta_P*Rd\n",
    "pprint(delta_I)"
   ]
  },
  {
   "cell_type": "code",
   "execution_count": 5,
   "metadata": {},
   "outputs": [
    {
     "data": {
      "text/latex": [
       "$\\displaystyle - 6.45161290322581 \\cdot 10^{-19} \\sin^{2}{\\left(52.3598775598299 o + 0.785398163397448 \\right)} + 6.45161290322581 \\cdot 10^{-19} \\cos^{2}{\\left(52.3598775598299 o + 0.785398163397448 \\right)}$"
      ],
      "text/plain": [
       "-6.45161290322581e-19*sin(52.3598775598299*o + 0.785398163397448)**2 + 6.45161290322581e-19*cos(52.3598775598299*o + 0.785398163397448)**2"
      ]
     },
     "execution_count": 5,
     "metadata": {},
     "output_type": "execute_result"
    }
   ],
   "source": [
    "delta_I.subs(phi,np.pi/4)"
   ]
  },
  {
   "cell_type": "code",
   "execution_count": 6,
   "metadata": {},
   "outputs": [],
   "source": [
    "shot_noise1=2*q*Rd*(P1.subs(phi,np.pi/4))*delta_f\n",
    "shot_noise2=2*q*Rd*(P2.subs(phi,np.pi/4))*delta_f\n",
    "SNR=(delta_I.subs(phi,np.pi/4))**2/(shot_noise1**2+shot_noise2**2)\n"
   ]
  },
  {
   "cell_type": "code",
   "execution_count": 7,
   "metadata": {},
   "outputs": [
    {
     "data": {
      "text/latex": [
       "$\\displaystyle \\frac{4.16233090530697 \\cdot 10^{-37} \\left(- \\sin^{2}{\\left(52.3598775598299 o + 0.785398163397448 \\right)} + \\cos^{2}{\\left(52.3598775598299 o + 0.785398163397448 \\right)}\\right)^{2}}{4.26222684703434 \\cdot 10^{-74} \\delta_{f}^{2} \\sin^{4}{\\left(52.3598775598299 o + 0.785398163397448 \\right)} + 4.26222684703434 \\cdot 10^{-74} \\delta_{f}^{2} \\cos^{4}{\\left(52.3598775598299 o + 0.785398163397448 \\right)}}$"
      ],
      "text/plain": [
       "4.16233090530697e-37*(-sin(52.3598775598299*o + 0.785398163397448)**2 + cos(52.3598775598299*o + 0.785398163397448)**2)**2/(4.26222684703434e-74*delta_f**2*sin(52.3598775598299*o + 0.785398163397448)**4 + 4.26222684703434e-74*delta_f**2*cos(52.3598775598299*o + 0.785398163397448)**4)"
      ]
     },
     "execution_count": 7,
     "metadata": {},
     "output_type": "execute_result"
    }
   ],
   "source": [
    "SNR"
   ]
  },
  {
   "cell_type": "code",
   "execution_count": null,
   "metadata": {},
   "outputs": [],
   "source": [
    "SNR=1    \n",
    "o(delta_f)?"
   ]
  },
  {
   "cell_type": "markdown",
   "metadata": {},
   "source": [
    "# problem 3"
   ]
  },
  {
   "cell_type": "code",
   "execution_count": 8,
   "metadata": {},
   "outputs": [
    {
     "name": "stdout",
     "output_type": "stream",
     "text": [
      "OSNR= 17.9868444946377\n",
      "Pindbm= 0.0 dBm\n",
      "NAdB= 10*log(NA)/log(10)\n"
     ]
    }
   ],
   "source": [
    "import numpy as np\n",
    "from sympy.abc import z\n",
    "from sympy import Abs,Piecewise,sqrt, exp,pi,sin,cos,pprint, symbols,log\n",
    "from sympy import I, oo, erfc,Symbol, solve ,Eq,erfcinv\n",
    "from scipy import special\n",
    "r=0.25 #m\n",
    "L=6.5e6 #m\n",
    "wl=1550e-9 #m\n",
    "at=0.3e-3 #db/m\n",
    "ata=0.2e-3 #db/m\n",
    "F=5 #dB\n",
    "c=3e8 \n",
    "Pin=1 # mW\n",
    "NA=symbols('NA')\n",
    "\n",
    "OSNR=(special.erfcinv(2e-9))**2\n",
    "print('OSNR=',OSNR)\n",
    "\n",
    "Pindbm=10*np.log10(Pin)\n",
    "print('Pindbm=',Pindbm,'dBm')\n",
    "\n",
    "NAdB=10 *(log(NA)/log(10))\n",
    "G=at*L/NA+0.2\n",
    "\n",
    "print('NAdB=',NAdB)\n",
    "\n",
    "fun=Pindbm-NAdB-F-G+58-17.99\n"
   ]
  },
  {
   "cell_type": "code",
   "execution_count": 9,
   "metadata": {},
   "outputs": [
    {
     "name": "stdout",
     "output_type": "stream",
     "text": [
      "NA= 149 -0.0091110\n"
     ]
    }
   ],
   "source": [
    "\n",
    "\n",
    "for i in range (1,500):\n",
    "    y=fun.subs(NA,i).evalf(5)\n",
    "    if y**2<0.001:\n",
    "        print('NA=',i,fun.subs(NA,i).evalf(5))"
   ]
  },
  {
   "cell_type": "markdown",
   "metadata": {},
   "source": [
    "# Problem 4"
   ]
  },
  {
   "cell_type": "code",
   "execution_count": 16,
   "metadata": {},
   "outputs": [],
   "source": [
    "import numpy as np\n",
    "from sympy.abc import z\n",
    "from sympy import Abs,Piecewise,sqrt, exp,pi,sin,cos,pprint, symbols,log\n",
    "from sympy import I, oo, erfc,Symbol, solve ,Eq,erfcinv\n",
    "from scipy import special"
   ]
  },
  {
   "cell_type": "code",
   "execution_count": 17,
   "metadata": {},
   "outputs": [],
   "source": [
    "c=3e8 \n",
    "wl1=1285e-9\n",
    "wl2=1625e-9\n",
    "max_at=0.35e-3 # wl1\n",
    "max_dis=22 #ps/(nm*km)\n",
    "f1=c/wl1\n",
    "f2=c/wl2\n",
    "SE=0.8  #spectral efficiency\n"
   ]
  },
  {
   "cell_type": "code",
   "execution_count": 18,
   "metadata": {},
   "outputs": [
    {
     "name": "stdout",
     "output_type": "stream",
     "text": [
      "delta_f= 48847650404070.625 Hz\n"
     ]
    }
   ],
   "source": [
    "delta_f=f1-f2\n",
    "print('delta_f=',delta_f,'Hz')"
   ]
  },
  {
   "cell_type": "code",
   "execution_count": 19,
   "metadata": {},
   "outputs": [
    {
     "name": "stdout",
     "output_type": "stream",
     "text": [
      "the maximum total capacity = 39078120323256.5 Hz\n"
     ]
    }
   ],
   "source": [
    "mtc=delta_f*SE\n",
    "print('the maximum total capacity =',mtc,'Hz')"
   ]
  },
  {
   "cell_type": "code",
   "execution_count": 21,
   "metadata": {},
   "outputs": [
    {
     "name": "stdout",
     "output_type": "stream",
     "text": [
      "channel number = 782\n"
     ]
    }
   ],
   "source": [
    "number_channel=int(mtc/50e9)+1\n",
    "#number_channel=mtc/50e9\n",
    "print('channel number =',number_channel)"
   ]
  },
  {
   "cell_type": "code",
   "execution_count": 32,
   "metadata": {},
   "outputs": [],
   "source": [
    "delta_wl=50e9*wl2**2/c*1e9"
   ]
  },
  {
   "cell_type": "code",
   "execution_count": 33,
   "metadata": {},
   "outputs": [
    {
     "name": "stdout",
     "output_type": "stream",
     "text": [
      "delta_wl= 0.44010416666666663 nm\n"
     ]
    }
   ],
   "source": [
    "print('delta_wl=',delta_wl,'nm')"
   ]
  },
  {
   "cell_type": "code",
   "execution_count": 30,
   "metadata": {},
   "outputs": [
    {
     "name": "stdout",
     "output_type": "stream",
     "text": [
      "delta_t 25.0 ps\n"
     ]
    }
   ],
   "source": [
    "delta_t=1/40e9*1e12 #ps\n",
    "print('delta_t=',delta_t,'ps')"
   ]
  },
  {
   "cell_type": "code",
   "execution_count": 36,
   "metadata": {},
   "outputs": [
    {
     "name": "stdout",
     "output_type": "stream",
     "text": [
      "the maximum transimission distance= 2.5820333512641205 km\n"
     ]
    }
   ],
   "source": [
    "L=delta_t/(max_dis*delta_wl)\n",
    "print('the maximum transimission distance=',L,'km')"
   ]
  },
  {
   "cell_type": "code",
   "execution_count": 35,
   "metadata": {},
   "outputs": [
    {
     "data": {
      "text/plain": [
       "25.0"
      ]
     },
     "execution_count": 35,
     "metadata": {},
     "output_type": "execute_result"
    }
   ],
   "source": [
    "delta_t"
   ]
  },
  {
   "cell_type": "code",
   "execution_count": null,
   "metadata": {},
   "outputs": [],
   "source": []
  },
  {
   "cell_type": "code",
   "execution_count": 41,
   "metadata": {},
   "outputs": [
    {
     "name": "stdout",
     "output_type": "stream",
     "text": [
      "the maximum total capacity for a DWDM system using this encoding=\n",
      "312.624962586052 Tb/s\n"
     ]
    }
   ],
   "source": [
    "#bits per second per hertz\n",
    "MTC=delta_f*6.4\n",
    "print('the maximum total capacity for a DWDM system using this encoding=')\n",
    "print(MTC/1e12,'Tb/s')"
   ]
  },
  {
   "cell_type": "code",
   "execution_count": null,
   "metadata": {},
   "outputs": [],
   "source": []
  }
 ],
 "metadata": {
  "kernelspec": {
   "display_name": "Python 3",
   "language": "python",
   "name": "python3"
  },
  "language_info": {
   "codemirror_mode": {
    "name": "ipython",
    "version": 3
   },
   "file_extension": ".py",
   "mimetype": "text/x-python",
   "name": "python",
   "nbconvert_exporter": "python",
   "pygments_lexer": "ipython3",
   "version": "3.7.7"
  }
 },
 "nbformat": 4,
 "nbformat_minor": 4
}
