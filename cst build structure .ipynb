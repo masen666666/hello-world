{
 "cells": [
  {
   "cell_type": "code",
   "execution_count": 45,
   "metadata": {},
   "outputs": [],
   "source": [
    "import numpy as np\n",
    "import math\n",
    "import matplotlib.pyplot as plt"
   ]
  },
  {
   "cell_type": "code",
   "execution_count": 46,
   "metadata": {
    "code_folding": []
   },
   "outputs": [],
   "source": [
    "# def build_substrate(length,width,height,x=0,y=0,z=0):\n",
    "#     #length - x\n",
    "#     #width - y\n",
    "#     x_min=x-length/2\n",
    "#     x_max=x+length/2\n",
    "#     y_min=y-width/2\n",
    "#     y_max=y+width/2\n",
    "#     z_min=min(z,z+h)\n",
    "#     z_max=max(z,z+h)\n",
    "#     print('With Brick')\n",
    "#     print('     .Reset ')\n",
    "#     print('     .Name \"substrate\" ')\n",
    "#     print('     .Component \"component1\" ')\n",
    "#     print('     .Material \"Quartz (Fused) (loss free)\" ')\n",
    "#     print('     .Xrange \"'+str(x_min)+'\", \"'+str(x_max)+'\" ')\n",
    "#     print('     .Yrange \"'+str(y_min)+'\", \"'+str(y_max)+'\" ')\n",
    "#     print('     .Zrange \"'+str(z_min)+'\", \"'+str(z_max)+'\" ')\n",
    "#     print('     .Create')\n",
    "#     print('End With')\n",
    "\n",
    "def build_substrate(length,width,height,x,y,z=0):\n",
    "    #length - x -string\n",
    "    #width - y-string\n",
    "    x_min=x+\"-\"+length+\"/2\"\n",
    "    x_max=x+\"+\"+length+\"/2\"\n",
    "    y_min=y+\"-\"+width+\"/2\"\n",
    "    y_max=y+\"+\"+width+\"/2\"\n",
    "    z_min=min(z,z+h)\n",
    "    z_max=max(z,z+h)\n",
    "    print('With Brick')\n",
    "    print('     .Reset ')\n",
    "    print('     .Name \"substrate\" ')\n",
    "    print('     .Component \"component1\" ')\n",
    "    print('     .Material \"Quartz (Fused) (loss free)\" ')\n",
    "    print('     .Xrange \"'+x_min+'\", \"'+x_max+'\" ')\n",
    "    print('     .Yrange \"'+y_min+'\", \"'+y_max+'\" ')\n",
    "    print('     .Zrange \"'+str(z_min)+'\", \"'+str(z_max)+'\" ')\n",
    "    print('     .Create')\n",
    "    print('End With')\n",
    "\n",
    "# def build_cylinder(x,y,r,h,order=1):\n",
    "#     print('With Cylinder ')\n",
    "#     print('     .Reset')\n",
    "#     print('     .Name \"cylinder'+str(order)+'\"')\n",
    "#     print('     .Component \"component1\"')\n",
    "#     print('     .Material \"Silicon (loss free)\"')\n",
    "#     print('     .OuterRadius \"'+str(r)+'\"')\n",
    "#     print('     .InnerRadius \"0\"')\n",
    "#     print('     .Axis \"z\"')\n",
    "#     print('     .Zrange \"0\", \"'+str(h)+'\"')\n",
    "#     print('     .Xcenter \"'+str(x)+'\"')\n",
    "#     print('     .Ycenter \"'+str(y)+'\"')\n",
    "#     print('     .Segments \"0\"')\n",
    "#     print('     .Create')\n",
    "#     print('End With')\n",
    "\n",
    "def build_cylinder(x,y,r,h,order=1):\n",
    "#     x,y-string, r-string,h-tring\n",
    "    print('With Cylinder ')\n",
    "    print('     .Reset')\n",
    "    print('     .Name \"cylinder'+str(order)+'\"')\n",
    "    print('     .Component \"component1\"')\n",
    "    print('     .Material \"Silicon (loss free)\"')\n",
    "    print('     .OuterRadius \"'+r+'\"')\n",
    "    print('     .InnerRadius \"0\"')\n",
    "    print('     .Axis \"z\"')\n",
    "    print('     .Zrange \"0\", \"'+h+'\"')\n",
    "    print('     .Xcenter \"'+x+'\"')\n",
    "    print('     .Ycenter \"'+y+'\"')\n",
    "    print('     .Segments \"0\"')\n",
    "    print('     .Create')\n",
    "    print('End With')\n",
    "    \n",
    "C=299792458 #m/s \n",
    "def nm2PHz(wl):\n",
    "    C=299792458 #m/s \n",
    "    f=C/(wl*1e-9)*1e-15\n",
    "    print(\"f = \",f,\"PHz\")\n",
    "    \n",
    "def PHz2nm(f):\n",
    "    C=299792458 #m/s \n",
    "    wl=C*1e9/(f*1e15)\n",
    "    print(\"wavelength = \",wl,\"nm\")"
   ]
  },
  {
   "cell_type": "code",
   "execution_count": 47,
   "metadata": {},
   "outputs": [
    {
     "ename": "TypeError",
     "evalue": "build_substrate() missing 2 required positional arguments: 'x' and 'y'",
     "output_type": "error",
     "traceback": [
      "\u001b[0;31m---------------------------------------------------------------------------\u001b[0m",
      "\u001b[0;31mTypeError\u001b[0m                                 Traceback (most recent call last)",
      "\u001b[0;32m<ipython-input-47-7ccca18e9788>\u001b[0m in \u001b[0;36m<module>\u001b[0;34m\u001b[0m\n\u001b[1;32m      5\u001b[0m     \u001b[0;31m#length - x\u001b[0m\u001b[0;34m\u001b[0m\u001b[0;34m\u001b[0m\u001b[0;34m\u001b[0m\u001b[0m\n\u001b[1;32m      6\u001b[0m     \u001b[0;31m#width - y\u001b[0m\u001b[0;34m\u001b[0m\u001b[0;34m\u001b[0m\u001b[0;34m\u001b[0m\u001b[0m\n\u001b[0;32m----> 7\u001b[0;31m \u001b[0mbuild_substrate\u001b[0m\u001b[0;34m(\u001b[0m\u001b[0mpd\u001b[0m\u001b[0;34m,\u001b[0m\u001b[0mpnd\u001b[0m\u001b[0;34m,\u001b[0m\u001b[0mh\u001b[0m\u001b[0;34m)\u001b[0m\u001b[0;34m\u001b[0m\u001b[0;34m\u001b[0m\u001b[0m\n\u001b[0m",
      "\u001b[0;31mTypeError\u001b[0m: build_substrate() missing 2 required positional arguments: 'x' and 'y'"
     ]
    }
   ],
   "source": [
    "pd=721\n",
    "pnd=260\n",
    "h=-10e3\n",
    "# h=-170e3 #immersion lens glass thickness\n",
    "    #length - x\n",
    "    #width - y\n",
    "build_substrate(pd,pnd,h)"
   ]
  },
  {
   "cell_type": "code",
   "execution_count": null,
   "metadata": {},
   "outputs": [],
   "source": [
    "\n",
    "# build_cylinder(x,y,r,h,order=1)\n",
    "def build_dimer_block(x_center,y_center,order1,order2):\n",
    "#     gap=50\n",
    "#     D1=150\n",
    "#     D2=190\n",
    "#     h_cyl=250\n",
    "    x1=str(x_center)+\"-(D1/2+gap/2)\"\n",
    "    y1=str(y_center)\n",
    "    x2=str(x_center)+\"+D2/2+gap/2\"\n",
    "    y2=str(y_center)\n",
    "    build_cylinder(x1,y1,\"D1/2\",\"h\",order=order1)\n",
    "    build_cylinder(x2,y2,\"D2/2\",\"h\",order=order2)"
   ]
  },
  {
   "cell_type": "markdown",
   "metadata": {},
   "source": [
    "##### build structure for certain angle refraction"
   ]
  },
  {
   "cell_type": "code",
   "execution_count": 48,
   "metadata": {
    "scrolled": true
   },
   "outputs": [
    {
     "name": "stdout",
     "output_type": "stream",
     "text": [
      "With Cylinder \n",
      "     .Reset\n",
      "     .Name \"cylinder1\"\n",
      "     .Component \"component1\"\n",
      "     .Material \"Silicon (loss free)\"\n",
      "     .OuterRadius \"D1/2\"\n",
      "     .InnerRadius \"0\"\n",
      "     .Axis \"z\"\n",
      "     .Zrange \"0\", \"h\"\n",
      "     .Xcenter \"0-(D1/2+gap/2)\"\n",
      "     .Ycenter \"0\"\n",
      "     .Segments \"0\"\n",
      "     .Create\n",
      "End With\n",
      "With Cylinder \n",
      "     .Reset\n",
      "     .Name \"cylinder2\"\n",
      "     .Component \"component1\"\n",
      "     .Material \"Silicon (loss free)\"\n",
      "     .OuterRadius \"D2/2\"\n",
      "     .InnerRadius \"0\"\n",
      "     .Axis \"z\"\n",
      "     .Zrange \"0\", \"h\"\n",
      "     .Xcenter \"0+D2/2+gap/2\"\n",
      "     .Ycenter \"0\"\n",
      "     .Segments \"0\"\n",
      "     .Create\n",
      "End With\n"
     ]
    }
   ],
   "source": [
    "Column=1 #x\n",
    "Row=1 #y\n",
    "Num_cylender=2\n",
    "for j in range(0,Row):\n",
    "    for i in range(0,Column):\n",
    "        order_k=j*Column+i+1\n",
    "        x_block_center=i*pd\n",
    "        y_block_center=j*pnd\n",
    "        order1=(order_k-1)*Num_cylender+1\n",
    "        order2=(order_k-1)*Num_cylender+2\n",
    "        build_dimer_block(x_block_center,y_block_center,order1,order2)"
   ]
  },
  {
   "cell_type": "code",
   "execution_count": 51,
   "metadata": {},
   "outputs": [
    {
     "name": "stdout",
     "output_type": "stream",
     "text": [
      "With Brick\n",
      "     .Reset \n",
      "     .Name \"substrate\" \n",
      "     .Component \"component1\" \n",
      "     .Material \"Quartz (Fused) (loss free)\" \n",
      "     .Xrange \"0*pd/2-1*pd/2\", \"0*pd/2+1*pd/2\" \n",
      "     .Yrange \"0*pnd/2-1*pnd/2\", \"0*pnd/2+1*pnd/2\" \n",
      "     .Zrange \"-5000.0\", \"0\" \n",
      "     .Create\n",
      "End With\n"
     ]
    }
   ],
   "source": [
    "x_c_s=str(Column-1)+\"*pd/2\"\n",
    "y_c_s=str(Row-1)+\"*pnd/2\"\n",
    "h=-5e3\n",
    "# h=-170e3 #immersion lens glass thickness\n",
    "    #length - x\n",
    "    #width - y\n",
    "build_substrate(str(Column)+\"*pd\",str(Row)+\"*pnd\",h,x_c_s,y_c_s)"
   ]
  },
  {
   "cell_type": "code",
   "execution_count": 62,
   "metadata": {},
   "outputs": [],
   "source": [
    "# for i in range(215,800+1):\n",
    "#     print(\"Solid.Insert \\\"component1:medium\\\", \\\"component1:cylinder\"+str(i)+\"\\\"\" )\n"
   ]
  },
  {
   "cell_type": "code",
   "execution_count": 53,
   "metadata": {},
   "outputs": [
    {
     "name": "stdout",
     "output_type": "stream",
     "text": [
      "f =  0.30700712544802866 PHz\n",
      "f =  0.419290151048951 PHz\n"
     ]
    }
   ],
   "source": [
    "nm2PHz(976.5)\n",
    "nm2PHz(715)"
   ]
  },
  {
   "cell_type": "code",
   "execution_count": 54,
   "metadata": {},
   "outputs": [
    {
     "name": "stdout",
     "output_type": "stream",
     "text": [
      "wavelength =  714.983205342237 nm\n"
     ]
    }
   ],
   "source": [
    "PHz2nm(0.4193)"
   ]
  },
  {
   "cell_type": "code",
   "execution_count": 56,
   "metadata": {},
   "outputs": [
    {
     "data": {
      "text/plain": [
       "41.13951041489915"
      ]
     },
     "execution_count": 56,
     "metadata": {},
     "output_type": "execute_result"
    }
   ],
   "source": [
    "np.arcsin(1/1.52)/np.pi*180"
   ]
  },
  {
   "cell_type": "code",
   "execution_count": 60,
   "metadata": {},
   "outputs": [
    {
     "name": "stdout",
     "output_type": "stream",
     "text": [
      "2.3104\n"
     ]
    }
   ],
   "source": [
    "miu_r=1\n",
    "n=1.52\n",
    "epsilon_r=n**2/miu_r\n",
    "print(epsilon)"
   ]
  }
 ],
 "metadata": {
  "kernelspec": {
   "display_name": "Python 3",
   "language": "python",
   "name": "python3"
  },
  "language_info": {
   "codemirror_mode": {
    "name": "ipython",
    "version": 3
   },
   "file_extension": ".py",
   "mimetype": "text/x-python",
   "name": "python",
   "nbconvert_exporter": "python",
   "pygments_lexer": "ipython3",
   "version": "3.7.6"
  }
 },
 "nbformat": 4,
 "nbformat_minor": 4
}
