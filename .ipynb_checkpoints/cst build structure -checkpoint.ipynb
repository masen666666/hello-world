{
 "cells": [
  {
   "cell_type": "code",
   "execution_count": 1,
   "metadata": {},
   "outputs": [],
   "source": [
    "import numpy as np\n",
    "import math\n",
    "import matplotlib.pyplot as plt"
   ]
  },
  {
   "cell_type": "code",
   "execution_count": 2,
   "metadata": {},
   "outputs": [],
   "source": [
    "def build_substrate(length,width,height,x=0,y=0,z=0):\n",
    "    #length - x\n",
    "    #width - y\n",
    "    x_min=x-length/2\n",
    "    x_max=x+length/2\n",
    "    y_min=y-width/2\n",
    "    y_max=y+width/2\n",
    "    z_min=min(z,z+h)\n",
    "    z_max=max(z,z+h)\n",
    "    print('With Brick')\n",
    "    print('     .Reset ')\n",
    "    print('     .Name \"substrate\" ')\n",
    "    print('     .Component \"component1\" ')\n",
    "    print('     .Material \"Quartz (Fused) (loss free)\" ')\n",
    "    print('     .Xrange \"'+str(x_min)+'\", \"'+str(x_max)+'\" ')\n",
    "    print('     .Yrange \"'+str(y_min)+'\", \"'+str(y_max)+'\" ')\n",
    "    print('     .Zrange \"'+str(z_min)+'\", \"'+str(z_max)+'\" ')\n",
    "    print('     .Create')\n",
    "    print('End With')\n",
    "\n",
    "def build_cylinder(x,y,r,h,order=1):\n",
    "    print('With Cylinder ')\n",
    "    print('     .Reset')\n",
    "    print('     .Name \"solid'+str(order)+'\"')\n",
    "    print('     .Component \"component1\"')\n",
    "    print('     .Material \"Silicon (loss free)\"')\n",
    "    print('     .OuterRadius \"'+str(r)+'\"')\n",
    "    print('     .InnerRadius \"0\"')\n",
    "    print('     .Axis \"z\"')\n",
    "    print('     .Zrange \"0\", \"'+str(h)+'\"')\n",
    "    print('     .Xcenter \"'+str(x)+'\"')\n",
    "    print('     .Ycenter \"'+str(y)+'\"')\n",
    "    print('     .Segments \"0\"')\n",
    "    print('     .Create')\n",
    "    print('End With')\n",
    "    \n",
    "C=299792458 #m/s \n",
    "def nm2PHz(wl):\n",
    "    C=299792458 #m/s \n",
    "    f=C/(wl*1e-9)*1e-15\n",
    "    print(\"f = \",f,\"PHz\")\n",
    "    \n",
    "def PHz2nm(f):\n",
    "    C=299792458 #m/s \n",
    "    wl=C*1e9/(f*1e15)\n",
    "    print(\"wavelength = \",wl,\"nm\")"
   ]
  },
  {
   "cell_type": "code",
   "execution_count": null,
   "metadata": {},
   "outputs": [],
   "source": [
    "pd=721\n",
    "pnd=260\n",
    "h=-10e3\n",
    "# h=-170e3 #immersion lens glass thickness\n",
    "    #length - x\n",
    "    #width - y\n",
    "build_substrate(pd,pnd,h)"
   ]
  },
  {
   "cell_type": "code",
   "execution_count": null,
   "metadata": {},
   "outputs": [],
   "source": [
    "\n",
    "# build_cylinder(x,y,r,h,order=1)\n",
    "gap=50\n",
    "D1=150\n",
    "D2=190\n",
    "h_cyl=250\n",
    "x1=-(D1/2+gap/2)\n",
    "y1=0\n",
    "x2=D1/2+gap/2\n",
    "y2=0\n",
    "build_cylinder(x1,y1,D1/2,h_cyl,order=1)\n",
    "build_cylinder(x2,y2,D2/2,h_cyl,order=2)"
   ]
  },
  {
   "cell_type": "code",
   "execution_count": null,
   "metadata": {},
   "outputs": [],
   "source": []
  },
  {
   "cell_type": "code",
   "execution_count": null,
   "metadata": {},
   "outputs": [],
   "source": []
  }
 ],
 "metadata": {
  "kernelspec": {
   "display_name": "Python 3",
   "language": "python",
   "name": "python3"
  },
  "language_info": {
   "codemirror_mode": {
    "name": "ipython",
    "version": 3
   },
   "file_extension": ".py",
   "mimetype": "text/x-python",
   "name": "python",
   "nbconvert_exporter": "python",
   "pygments_lexer": "ipython3",
   "version": "3.7.6"
  }
 },
 "nbformat": 4,
 "nbformat_minor": 4
}
