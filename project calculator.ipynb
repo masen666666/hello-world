{
 "cells": [
  {
   "cell_type": "code",
   "execution_count": 3,
   "id": "e0a3b867",
   "metadata": {},
   "outputs": [],
   "source": [
    "import numpy as np\n",
    "import math"
   ]
  },
  {
   "cell_type": "code",
   "execution_count": 16,
   "id": "ca49d5d3",
   "metadata": {},
   "outputs": [],
   "source": [
    "C=299792458 #m/s \n",
    "def nm2PHz(wl):\n",
    "    C=299792458 #m/s \n",
    "    f=C/(wl*1e-9)*1e-15\n",
    "    print(\"f = \",f,\"PHz\")\n",
    "    \n",
    "def PHz2nm(f):\n",
    "    C=299792458 #m/s \n",
    "    wl=C*1e9/(f*1e15)\n",
    "    print(\"wavelength = \",wl,\"nm\")\n",
    "    "
   ]
  },
  {
   "cell_type": "code",
   "execution_count": 17,
   "id": "546d4f71",
   "metadata": {},
   "outputs": [
    {
     "data": {
      "text/plain": [
       "15"
      ]
     },
     "execution_count": 17,
     "metadata": {},
     "output_type": "execute_result"
    }
   ],
   "source": [
    "a=\"000000000000000\"\n",
    "len(a)"
   ]
  },
  {
   "cell_type": "code",
   "execution_count": 22,
   "id": "7a6cfdd0",
   "metadata": {},
   "outputs": [
    {
     "name": "stdout",
     "output_type": "stream",
     "text": [
      "f =  0.3331027311111111 PHz\n",
      "f =  0.23060958307692309 PHz\n"
     ]
    }
   ],
   "source": [
    "nm2PHz(900)\n",
    "nm2PHz(1300)\n",
    "# PHz2nm(0.299792458)"
   ]
  },
  {
   "cell_type": "code",
   "execution_count": 20,
   "id": "31a3bb67",
   "metadata": {},
   "outputs": [
    {
     "data": {
      "text/plain": [
       "2.7556"
      ]
     },
     "execution_count": 20,
     "metadata": {},
     "output_type": "execute_result"
    }
   ],
   "source": [
    "1.66**2\n"
   ]
  },
  {
   "cell_type": "code",
   "execution_count": null,
   "id": "fab041b1",
   "metadata": {},
   "outputs": [],
   "source": []
  }
 ],
 "metadata": {
  "kernelspec": {
   "display_name": "Python 3",
   "language": "python",
   "name": "python3"
  },
  "language_info": {
   "codemirror_mode": {
    "name": "ipython",
    "version": 3
   },
   "file_extension": ".py",
   "mimetype": "text/x-python",
   "name": "python",
   "nbconvert_exporter": "python",
   "pygments_lexer": "ipython3",
   "version": "3.8.2"
  }
 },
 "nbformat": 4,
 "nbformat_minor": 5
}
