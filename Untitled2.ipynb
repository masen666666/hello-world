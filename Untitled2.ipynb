{
 "cells": [
  {
   "cell_type": "code",
   "execution_count": 1,
   "metadata": {},
   "outputs": [
    {
     "name": "stdout",
     "output_type": "stream",
     "text": [
      "L1-L2= 0.0005010374999999294 m\n"
     ]
    }
   ],
   "source": [
    "import numpy as np\n",
    "ne=1.5\n",
    "wl1=1550e-9\n",
    "wl2=1551.6e-9\n",
    "B1=2*np.pi*ne/wl1\n",
    "B2=2*np.pi*ne/wl2\n",
    "DL=np.pi/(B1-B2)     #L1-L2\n",
    "print('L1-L2=',DL,'m')"
   ]
  },
  {
   "cell_type": "code",
   "execution_count": 2,
   "metadata": {},
   "outputs": [],
   "source": [
    "import numpy as np\n",
    "from sympy.abc import z\n",
    "from sympy import Abs,Piecewise,sqrt, exp,pi,sin,cos,pprint, symbols,log\n",
    "from sympy import I, oo, erfc,Symbol, solve ,Eq,erfcinv\n",
    "from scipy import special\n",
    "r=0.25 #m\n",
    "L=6.5e6 #m\n",
    "wl=1550e-9 #m\n",
    "at=0.3e-3 #db/m\n",
    "ata=0.2e-3 #db/m\n",
    "F=5 #dB\n",
    "c=3e8 \n",
    "Pin=1 # mW\n",
    "NA=symbols('NA')\n",
    "\n",
    "OSNR=(special.erfcinv(2e-9))**2\n",
    "print(OSNR)\n",
    "Pindbm=10*np.log10(Pin)\n",
    "print(Pindbm,'dBm')\n",
    "NAdB=10 *(log(NA)/log(10))\n",
    "G=at*L/NA+0.2\n",
    "pprint(NAdB)\n",
    "solve(Pindbm-NAdB-F-G+58-17.99,NA)\n",
    "print(NA)"
   ]
  },
  {
   "cell_type": "code",
   "execution_count": 3,
   "metadata": {},
   "outputs": [],
   "source": [
    "r=0.25 #m\n",
    "L=6.5e6 #m\n",
    "wl=1550e-9 #m\n",
    "at=0.3e-3 #db/m\n",
    "ata=0.2e-3 #db/m\n",
    "F=5 #dB\n",
    "c=3e8 \n",
    "Pin=1 # mW\n",
    "NA=symbols('NA')\n",
    "\n",
    "OSNR=(special.erfcinv(2e-9))**2\n",
    "print(OSNR)\n",
    "Pindbm=10*np.log10(Pin)\n",
    "print(Pindbm,'dBm')\n",
    "NAdB=10 *(log(NA)/log(10))\n",
    "G=at*L/NA+0.2\n",
    "pprint(NAdB)\n",
    "solve(Pindbm-NAdB-F-G+58-17.99,NA)\n",
    "print(NA)"
   ]
  },
  {
   "cell_type": "code",
   "execution_count": 4,
   "metadata": {},
   "outputs": [
    {
     "name": "stdout",
     "output_type": "stream",
     "text": [
      "17.9868444946377\n"
     ]
    }
   ],
   "source": [
    "OSNR=(special.erfcinv(2e-9))**2\n",
    "print(OSNR)"
   ]
  },
  {
   "cell_type": "code",
   "execution_count": 5,
   "metadata": {},
   "outputs": [
    {
     "name": "stdout",
     "output_type": "stream",
     "text": [
      "0.0 dBm\n"
     ]
    }
   ],
   "source": [
    "Pindbm=10*np.log10(Pin)\n",
    "print(Pindbm,'dBm')"
   ]
  },
  {
   "cell_type": "code",
   "execution_count": null,
   "metadata": {},
   "outputs": [],
   "source": [
    "NAdB=10 *(log(NA)/log(10))\n",
    "G=at*L/NA+0.2\n",
    "pprint(NAdB)"
   ]
  },
  {
   "cell_type": "code",
   "execution_count": null,
   "metadata": {},
   "outputs": [],
   "source": [
    "solve(Pindbm-NAdB-F-G+58-17.99,NA)"
   ]
  },
  {
   "cell_type": "code",
   "execution_count": null,
   "metadata": {},
   "outputs": [],
   "source": [
    "NA"
   ]
  },
  {
   "cell_type": "code",
   "execution_count": null,
   "metadata": {},
   "outputs": [],
   "source": []
  }
 ],
 "metadata": {
  "kernelspec": {
   "display_name": "Python 3",
   "language": "python",
   "name": "python3"
  },
  "language_info": {
   "codemirror_mode": {
    "name": "ipython",
    "version": 3
   },
   "file_extension": ".py",
   "mimetype": "text/x-python",
   "name": "python",
   "nbconvert_exporter": "python",
   "pygments_lexer": "ipython3",
   "version": "3.7.7"
  }
 },
 "nbformat": 4,
 "nbformat_minor": 4
}
