{
 "cells": [
  {
   "cell_type": "code",
   "execution_count": 1,
   "metadata": {},
   "outputs": [
    {
     "name": "stdout",
     "output_type": "stream",
     "text": [
      "OSNR= 17.9868444946377\n",
      "Pindbm= 0.0 dBm\n",
      "NAdB= 10*log(NA)/log(10)\n"
     ]
    }
   ],
   "source": [
    "import numpy as np\n",
    "from sympy.abc import z\n",
    "from sympy import Abs,Piecewise,sqrt, exp,pi,sin,cos,pprint, symbols,log\n",
    "from sympy import I, oo, erfc,Symbol, solve ,Eq,erfcinv\n",
    "from scipy import special\n",
    "from sympy import sympify\n",
    "r=0.25 #m\n",
    "L=6.5e6 #m\n",
    "wl=1550e-9 #m\n",
    "at=0.3e-3 #db/m\n",
    "ata=0.2e-3 #db/m\n",
    "F=5 #dB\n",
    "c=3e8 \n",
    "Pin=1 # mW\n",
    "NA=symbols('NA')\n",
    "\n",
    "OSNR=(special.erfcinv(2e-9))**2\n",
    "print('OSNR=',OSNR)\n",
    "\n",
    "Pindbm=10*np.log10(Pin)\n",
    "print('Pindbm=',Pindbm,'dBm')\n",
    "\n",
    "NAdB=10 *(log(NA)/log(10))\n",
    "G=at*L/NA+0.2\n",
    "\n",
    "print('NAdB=',NAdB)\n",
    "\n",
    "fun=Pindbm-NAdB-F-G+58-17.99\n"
   ]
  },
  {
   "cell_type": "code",
   "execution_count": 21,
   "metadata": {},
   "outputs": [
    {
     "name": "stdout",
     "output_type": "stream",
     "text": [
      "NA= 149 -0.0091110\n"
     ]
    }
   ],
   "source": [
    "for i in range (1,500):\n",
    "    y=fun.subs(NA,i).evalf(5)\n",
    "    if y**2<0.001:\n",
    "        print('NA=',i,fun.subs(NA,i).evalf(5))"
   ]
  },
  {
   "cell_type": "code",
   "execution_count": null,
   "metadata": {},
   "outputs": [],
   "source": []
  },
  {
   "cell_type": "code",
   "execution_count": null,
   "metadata": {},
   "outputs": [],
   "source": []
  }
 ],
 "metadata": {
  "kernelspec": {
   "display_name": "Python 3",
   "language": "python",
   "name": "python3"
  },
  "language_info": {
   "codemirror_mode": {
    "name": "ipython",
    "version": 3
   },
   "file_extension": ".py",
   "mimetype": "text/x-python",
   "name": "python",
   "nbconvert_exporter": "python",
   "pygments_lexer": "ipython3",
   "version": "3.7.7"
  }
 },
 "nbformat": 4,
 "nbformat_minor": 4
}
