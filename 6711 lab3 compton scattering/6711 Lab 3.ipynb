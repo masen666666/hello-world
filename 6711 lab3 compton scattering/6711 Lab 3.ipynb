{
 "cells": [
  {
   "cell_type": "code",
   "execution_count": 192,
   "metadata": {},
   "outputs": [],
   "source": [
    "\n",
    "import matplotlib.pyplot as plt\n",
    "\n",
    "# sudo pip install mcareader\n",
    "import mcareader as mca\n",
    "import numpy as np\n",
    "import matplotlib.pyplot as plt\n",
    "from scipy.misc import electrocardiogram\n",
    "from scipy.signal import find_peaks\n",
    "from scipy import optimize\n"
   ]
  },
  {
   "cell_type": "code",
   "execution_count": 193,
   "metadata": {},
   "outputs": [],
   "source": [
    "# physics constant\n",
    "fine_str=1/137\n",
    "m_e=9.10938356e-31 #kg\n",
    "k=1.38e-23\n",
    "C=299792458 #m/s \n",
    "Eme=m_e*C**2\n",
    "h= 6.62607015e-34\n",
    "keV=1e3*1.60217662e-19 #J\n",
    "red_Comp_wl=h/(m_e*C*2*np.pi)"
   ]
  },
  {
   "cell_type": "code",
   "execution_count": 194,
   "metadata": {},
   "outputs": [
    {
     "data": {
      "text/plain": [
       "[<matplotlib.lines.Line2D at 0x7fc19091a510>]"
      ]
     },
     "execution_count": 194,
     "metadata": {},
     "output_type": "execute_result"
    },
    {
     "data": {
      "image/png": "[encoded data removed]",
      "text/plain": [
       "<Figure size 432x288 with 1 Axes>"
      ]
     },
     "metadata": {
      "needs_background": "light"
     },
     "output_type": "display_data"
    }
   ],
   "source": [
    "Ein=500*keV\n",
    "kk=np.arange(0,180,0.5)\n",
    "thita=kk/180*np.pi\n",
    "P=1 / (1 + (Ein / (m_e * C**2) * (1-np.cos(thita)) ) )\n",
    "d_cross_sec=1/2 * fine_str**2 * red_Comp_wl**2 * P**2 * (P+1/P-np.sin(thita)**2)\n",
    "# print(\"the relative Compton scattering cross section\",d_cross_sec,\" m2\")\n",
    "plt.plot(kk,d_cross_sec)"
   ]
  },
  {
   "cell_type": "code",
   "execution_count": 195,
   "metadata": {},
   "outputs": [
    {
     "name": "stdout",
     "output_type": "stream",
     "text": [
      "287.43716667323366 keV\n"
     ]
    }
   ],
   "source": [
    "# from incident eneger and angle to output energy\n",
    "Ein=657*keV\n",
    "thita=90  #degree\n",
    "thita=thita/180*np.pi\n",
    "Eout= Ein/(1 + (Ein/(m_e*C**2)*(1-np.cos(thita))) )\n",
    "print(Eout/keV,\"keV\")"
   ]
  },
  {
   "cell_type": "code",
   "execution_count": 196,
   "metadata": {},
   "outputs": [
    {
     "name": "stdout",
     "output_type": "stream",
     "text": [
      "173.99999996343018 degree\n"
     ]
    }
   ],
   "source": [
    "# from energy to angle\n",
    "Ein=500*keV\n",
    "Eout= 169.40016389*keV\n",
    "\n",
    "alpha=np.arccos(1- ((Ein/Eout) - 1 )/(Ein/(m_e*C**2) ))\n",
    "alpha=alpha / np.pi*180\n",
    "print(alpha,\"degree\")\n",
    "# Eout/keV"
   ]
  },
  {
   "cell_type": "code",
   "execution_count": 197,
   "metadata": {},
   "outputs": [
    {
     "data": {
      "image/png": "[encoded data removed]",
      "text/plain": [
       "<Figure size 432x288 with 1 Axes>"
      ]
     },
     "metadata": {
      "needs_background": "light"
     },
     "output_type": "display_data"
    }
   ],
   "source": [
    "s1 = mca.Mca(\"Eu152_Calib_G2_Lab1_2021.MCA\")\n",
    "x, y = s1.get_points(calibration_method=\"interpolation\")\n",
    "\n",
    "# x[y>100]\n",
    "height_peak=100\n",
    "peaks, _ = find_peaks(y, height=height_peak)\n",
    "plt.plot(x,y)\n",
    "plt.plot(x[peaks], y[peaks], \"x\")\n",
    "plt.plot(x,np.zeros_like(y)+height_peak, \"--\", color=\"gray\")\n",
    "plt.show()\n"
   ]
  },
  {
   "cell_type": "markdown",
   "metadata": {},
   "source": [
    "##### The decay of 152Eu leads to γ-rays from 100keV to 1500 keV. to calibrate  The energies of the gamma-rays of interest are:\n",
    "121.77 , 344.28 , 778.9 , 1408.01 keV\n"
   ]
  },
  {
   "cell_type": "code",
   "execution_count": 198,
   "metadata": {},
   "outputs": [
    {
     "data": {
      "text/plain": [
       "array([ 38.07772926,  38.61441048,  39.68777293,  40.76113537,\n",
       "        41.83449782,  46.39628821,  52.03144105,  52.83646288,\n",
       "        53.64148472, 139.51048035, 140.04716157, 278.51091703,\n",
       "       279.31593886, 279.85262009, 391.48231441, 392.01899563,\n",
       "       392.55567686])"
      ]
     },
     "execution_count": 198,
     "metadata": {},
     "output_type": "execute_result"
    }
   ],
   "source": [
    "x[peaks]"
   ]
  },
  {
   "cell_type": "markdown",
   "metadata": {},
   "source": [
    "##### here we can see, the x data are which is aligned by software is not exactly correct, so I align it again by python"
   ]
  },
  {
   "cell_type": "code",
   "execution_count": 199,
   "metadata": {},
   "outputs": [
    {
     "name": "stdout",
     "output_type": "stream",
     "text": [
      "[-1.11978207  0.8810792 ]\n"
     ]
    },
    {
     "name": "stderr",
     "output_type": "stream",
     "text": [
      "/opt/anaconda3/lib/python3.7/site-packages/scipy/optimize/minpack.py:808: OptimizeWarning: Covariance of the parameters could not be estimated\n",
      "  category=OptimizeWarning)\n"
     ]
    }
   ],
   "source": [
    "# y.max()\n",
    "# x[np.argmax(y)]\n",
    "x_data=np.array([139.51048035,392.01899563])\n",
    "y_data=np.array([121.8,344.28])\n",
    "\n",
    "def test_func(x, a, b):\n",
    "    return a + b * x\n",
    "\n",
    "params, params_covariance = optimize.curve_fit(test_func, x_data, y_data,\n",
    "                                               p0=[2, 2])\n",
    "\n",
    "print(params)\n"
   ]
  },
  {
   "cell_type": "code",
   "execution_count": 200,
   "metadata": {},
   "outputs": [],
   "source": [
    "a=params[0]\n",
    "b=params[1]\n",
    "x_aligned = a + b * x"
   ]
  },
  {
   "cell_type": "code",
   "execution_count": 201,
   "metadata": {},
   "outputs": [
    {
     "data": {
      "image/png": "[encoded data removed]",
      "text/plain": [
       "<Figure size 432x288 with 1 Axes>"
      ]
     },
     "metadata": {
      "needs_background": "light"
     },
     "output_type": "display_data"
    }
   ],
   "source": [
    "height_peak=100\n",
    "peaks, _ = find_peaks(y, height=height_peak)\n",
    "plt.plot(x_aligned,y)\n",
    "plt.plot(x_aligned[peaks], y[peaks], \"x\")\n",
    "plt.plot(x_aligned,np.zeros_like(y)+height_peak, \"--\", color=\"gray\")\n",
    "plt.show()"
   ]
  },
  {
   "cell_type": "code",
   "execution_count": 202,
   "metadata": {},
   "outputs": [
    {
     "data": {
      "text/plain": [
       "array([ 32.42971307,  32.90257173,  33.84828905,  34.79400637,\n",
       "        35.7397237 ,  39.75902231,  44.72403826,  45.43332625,\n",
       "        46.14261424, 121.8       , 122.27285866, 244.2703932 ,\n",
       "       244.97968119, 245.45253985, 343.80714134, 344.28      ,\n",
       "       344.75285866])"
      ]
     },
     "execution_count": 202,
     "metadata": {},
     "output_type": "execute_result"
    }
   ],
   "source": [
    "x_aligned[peaks]"
   ]
  },
  {
   "cell_type": "code",
   "execution_count": null,
   "metadata": {},
   "outputs": [],
   "source": []
  },
  {
   "cell_type": "markdown",
   "metadata": {},
   "source": [
    "##### A single 137Cs decay emits a single γ-ray at 661.66 keV. to investigate Compton scattering\n"
   ]
  },
  {
   "cell_type": "code",
   "execution_count": 291,
   "metadata": {},
   "outputs": [
    {
     "data": {
      "image/png": "[encoded data removed]",
      "text/plain": [
       "<Figure size 432x288 with 1 Axes>"
      ]
     },
     "metadata": {
      "needs_background": "light"
     },
     "output_type": "display_data"
    }
   ],
   "source": [
    "s3 = mca.Mca(\"energy_spectrum_d1_p1.MCA\")\n",
    "x3, y3 = s3.get_points(calibration_method=\"interpolation\")\n",
    "real_time3 = float(s3.get_variable(\"REAL_TIME\"))\n",
    "# x[y>100]\n",
    "height_peak=4000\n",
    "peaks, _ = find_peaks(y3, height=height_peak)\n",
    "plt.plot(x3,y3)\n",
    "plt.plot(x3[peaks], y3[peaks], \"x\")\n",
    "plt.plot(x3,np.zeros_like(y3)+height_peak, \"--\", color=\"gray\")\n",
    "plt.show()"
   ]
  },
  {
   "cell_type": "code",
   "execution_count": 204,
   "metadata": {},
   "outputs": [
    {
     "name": "stdout",
     "output_type": "stream",
     "text": [
      "[2334] \n",
      " [657.40786026]\n"
     ]
    },
    {
     "data": {
      "text/plain": [
       "657.4078602620087"
      ]
     },
     "execution_count": 204,
     "metadata": {},
     "output_type": "execute_result"
    }
   ],
   "source": [
    "# print(peaks,\"\\n\",x3[peaks],\"\\n\",y3[peaks[1]-20:peaks[1]+20])\n",
    "print(peaks,\"\\n\",x3[peaks])\n",
    "Ein=x3[peaks]\n",
    "Ein_137Cs=Ein[0]\n",
    "Ein_137Cs"
   ]
  },
  {
   "cell_type": "code",
   "execution_count": null,
   "metadata": {},
   "outputs": [],
   "source": []
  },
  {
   "cell_type": "code",
   "execution_count": null,
   "metadata": {},
   "outputs": [],
   "source": []
  },
  {
   "cell_type": "markdown",
   "metadata": {},
   "source": [
    "##### after the gamma ray photon being compton scattered, its energy should be changed, so the detector 2 should get different spectra from detector 1"
   ]
  },
  {
   "cell_type": "code",
   "execution_count": 206,
   "metadata": {},
   "outputs": [
    {
     "name": "stdout",
     "output_type": "stream",
     "text": [
      "sampling time  86.773333 sampling number  20046.0 sampling rate 231.01567390525383\n"
     ]
    }
   ],
   "source": [
    "s5 = mca.Mca(\"ENERGY_SPECTRUM_D2_P1.MCA\")\n",
    "x5,y5 = s5.get_points(calibration_method=\"interpolation\")\n",
    "\n",
    "# Get some data from the file\n",
    "real_time5 = float(s5.get_variable(\"REAL_TIME\"))\n",
    "samp_num5=sum(y5)\n",
    "samp_rat5=samp_num5/real_time5\n",
    "print(\"sampling time \",real_time5,\"sampling number \",samp_num5,\"sampling rate\",samp_rat5)\n",
    "\n",
    "\n",
    "# s5.plot()\n"
   ]
  },
  {
   "cell_type": "markdown",
   "metadata": {},
   "source": [
    "##### here because the compton scattering occurance frequency is small compared with background noise, we need to substrate the background noise from data"
   ]
  },
  {
   "cell_type": "code",
   "execution_count": 207,
   "metadata": {},
   "outputs": [
    {
     "data": {
      "text/plain": [
       "231.01567390525383"
      ]
     },
     "execution_count": 207,
     "metadata": {},
     "output_type": "execute_result"
    }
   ],
   "source": [
    "sum(y5)/real_time"
   ]
  },
  {
   "cell_type": "code",
   "execution_count": 208,
   "metadata": {},
   "outputs": [
    {
     "name": "stdout",
     "output_type": "stream",
     "text": [
      "sampling time  117.213333 sampling number  11574.0 sampling rate 98.74303292783253\n"
     ]
    }
   ],
   "source": [
    "s4 = mca.Mca(\"ENERGY_SPECTRUM_D2_background.MCA\")\n",
    "x4,y4 = s4.get_points(calibration_method=\"interpolation\")\n",
    "real_time4 = float(s4.get_variable(\"REAL_TIME\"))\n",
    "samp_num4=sum(y4)\n",
    "samp_rat4=samp_num4/real_time4\n",
    "print(\"sampling time \",real_time4,\"sampling number \",samp_num4,\"sampling rate\",samp_rat4)\n",
    "noise_bac=y4/samp_num4*samp_num5\n",
    "D2_no_noi=y5[1:7700]-noise_bac[1:7700]\n",
    "\n",
    "# s4.plot()\n"
   ]
  },
  {
   "cell_type": "code",
   "execution_count": 209,
   "metadata": {},
   "outputs": [
    {
     "name": "stdout",
     "output_type": "stream",
     "text": [
      "7786\n",
      "7799\n"
     ]
    }
   ],
   "source": [
    "print(x4.size)\n",
    "print(x5.size)"
   ]
  },
  {
   "cell_type": "code",
   "execution_count": 210,
   "metadata": {},
   "outputs": [],
   "source": [
    "# background\n",
    "\n",
    "def moving_average(x, num=2):\n",
    "    \"\"\"Smooth using a moving average\"\"\"\n",
    "    if num == 1:\n",
    "        return x\n",
    "    return np.convolve(x, np.ones((num,))/num)[(num-1):-num+1]\n",
    "\n",
    "\n",
    "def sub_sum(x, num=2):\n",
    "    \"\"\"Re-bin by adding counts\"\"\"\n",
    "    if num == 1:\n",
    "        return x\n",
    "    # If len(x) is not divisible by num, drop the last len(x) % num bins\n",
    "    return np.asarray([sum(x[i:i+num]) for i in range(0, len(x)-len(x)%num, num)])\n",
    "\n",
    "def conv_smooth(x4,y4,smooth):\n",
    "    plt.semilogy(x4, y4, label=\"original (%d points)\"% len(x4))\n",
    "\n",
    "    plt.semilogy(moving_average(x4, smooth), moving_average(y4, smooth),\n",
    "                 label=\"moving average (%d points)\" % len(moving_average(x4, smooth)))\n",
    "\n",
    "    plt.semilogy(sub_sum(x4, smooth)/smooth, sub_sum(y4, smooth)/smooth,\n",
    "                 label=\"sub sums scaled (%d points)\" % len(sub_sum(x4, smooth)))\n",
    "\n",
    "    plt.legend()\n",
    "    plt.show()\n",
    "\n"
   ]
  },
  {
   "cell_type": "code",
   "execution_count": 211,
   "metadata": {},
   "outputs": [],
   "source": [
    "# smooth = 6\n",
    "# conv_smooth(x4,y4,smooth)\n",
    "# Here y must be understand as a density: the number of counts is the AREA under the curve.\n",
    "# s4.plot()"
   ]
  },
  {
   "cell_type": "code",
   "execution_count": 221,
   "metadata": {},
   "outputs": [],
   "source": [
    "x_back_smoothed=moving_average(x4, smooth)\n",
    "y_back_smoothed=moving_average(noise_bac, smooth)\n",
    "x_source_smoothed=moving_average(x5, smooth)\n",
    "y_source_smoothed=moving_average(y5, smooth)\n",
    "# x_sub=x_back_smoothed[]\n",
    "# plt.semilogy(x_back_smoothed, y_back_smoothed, label=\"background (%d points)\"% len(x_back_smoothed))\n",
    "# plt.semilogy(x_source_smoothed, y_source_smoothed, label=\"with source (%d points)\"% len(x_source_smoothed))\n",
    "# plt.legend()\n",
    "# plt.show()"
   ]
  },
  {
   "cell_type": "code",
   "execution_count": 222,
   "metadata": {},
   "outputs": [
    {
     "data": {
      "image/png": "[encoded data removed]",
      "text/plain": [
       "<Figure size 432x288 with 1 Axes>"
      ]
     },
     "metadata": {
      "needs_background": "light"
     },
     "output_type": "display_data"
    }
   ],
   "source": [
    "x_sub = x_back_smoothed if len(x_source_smoothed) >= len(x_back_smoothed) else x_source_smoothed\n",
    "\n",
    "L=len(x_sub)\n",
    "\n",
    "y_sub = y_source_smoothed[0:L]-y_back_smoothed\n",
    "x_sub_smoothed = moving_average(x_sub, smooth)\n",
    "y_sub_smoothed = moving_average( y_sub, smooth)\n",
    "# plt.semilogy(moving_average(x_sub, smooth),moving_average( y_sub, smooth), label=\"background subtraction (%d points)\"% len(x_sub))\n",
    "plt.plot(x_sub_smoothed,y_sub_smoothed, label=\"background subtraction (%d points)\"% len(x_sub_smoothed))\n",
    "plt.legend()\n",
    "plt.show()"
   ]
  },
  {
   "cell_type": "code",
   "execution_count": 223,
   "metadata": {},
   "outputs": [
    {
     "data": {
      "image/png": "[encoded data removed]",
      "text/plain": [
       "<Figure size 432x288 with 1 Axes>"
      ]
     },
     "metadata": {
      "needs_background": "light"
     },
     "output_type": "display_data"
    }
   ],
   "source": [
    "height_peak=7\n",
    "peaks, _ = find_peaks(y_sub_smoothed, height=height_peak)\n",
    "plt.plot(x_sub_smoothed,y_sub_smoothed)\n",
    "plt.plot(x_sub_smoothed[peaks], y_sub_smoothed[peaks], \"x\")\n",
    "plt.plot(x_sub_smoothed,np.zeros_like(y_sub_smoothed)+height_peak, \"--\", color=\"gray\")\n",
    "plt.show()"
   ]
  },
  {
   "cell_type": "code",
   "execution_count": 224,
   "metadata": {},
   "outputs": [
    {
     "name": "stdout",
     "output_type": "stream",
     "text": [
      "Ein(keV):  657.4078602620087 Eout(keV):  236.79885977680735\n"
     ]
    }
   ],
   "source": [
    "x_sub_smoothed[peaks]\n",
    "Eout_keV=np.mean(x_sub_smoothed[peaks])\n",
    "Ein_keV=Ein_137Cs\n",
    "print(\"Ein(keV): \",Ein_keV,\"Eout(keV): \",Eout_keV)"
   ]
  },
  {
   "cell_type": "code",
   "execution_count": 225,
   "metadata": {},
   "outputs": [
    {
     "name": "stdout",
     "output_type": "stream",
     "text": [
      "Compton scattering angle is  112.37404355748097  degree\n"
     ]
    }
   ],
   "source": [
    "Ein=Ein_keV*keV\n",
    "Eout=Eout_keV*keV\n",
    "# Eout= Ein/(1 + (Ein/(m_e*C**2)*(1-np.cos(thita))) )\n",
    "alpha=np.arccos(1- ((Ein/Eout) - 1 )/(Ein/(m_e*C**2) ))\n",
    "alpha=alpha / np.pi*180\n",
    "print(\"Compton scattering angle is \",alpha,\" degree\")\n",
    "# Eout/keV"
   ]
  },
  {
   "cell_type": "markdown",
   "metadata": {},
   "source": [
    "##### the relative Compton scattering cross section as a function of angle for germanium"
   ]
  },
  {
   "cell_type": "code",
   "execution_count": 226,
   "metadata": {},
   "outputs": [
    {
     "name": "stdout",
     "output_type": "stream",
     "text": [
      "the relative Compton scattering cross section 1.17581357854503e-30  m2\n"
     ]
    }
   ],
   "source": [
    "thita=alpha/180*np.pi\n",
    "P=1/(1 + (Ein/(m_e*C**2)*(1-np.cos(thita))) )\n",
    "d_cross_sec=1/2 * fine_str**2 * red_Comp_wl**2 * P**2 * (P+1/P-np.sin(thita)**2)\n",
    "print(\"the relative Compton scattering cross section\",d_cross_sec,\" m2\")"
   ]
  },
  {
   "cell_type": "code",
   "execution_count": 227,
   "metadata": {},
   "outputs": [
    {
     "data": {
      "text/plain": [
       "[<matplotlib.lines.Line2D at 0x7fc18e46dfd0>]"
      ]
     },
     "execution_count": 227,
     "metadata": {},
     "output_type": "execute_result"
    },
    {
     "data": {
      "image/png": "[encoded data removed]",
      "text/plain": [
       "<Figure size 432x288 with 1 Axes>"
      ]
     },
     "metadata": {
      "needs_background": "light"
     },
     "output_type": "display_data"
    }
   ],
   "source": [
    "# Ein=657*keV\n",
    "kk=np.arange(0,180,0.5)\n",
    "thita=kk/180*np.pi\n",
    "P=1 / (1 + (Ein / (m_e * C**2) * (1-np.cos(thita)) ) )\n",
    "d_cross_sec=1/2 * fine_str**2 * red_Comp_wl**2 * P**2 * (P+1/P-np.sin(thita)**2)\n",
    "# print(\"the relative Compton scattering cross section\",d_cross_sec,\" m2\")\n",
    "plt.plot(kk,d_cross_sec)\n",
    "plt.plot(112.37404355748097,1.17581357854503e-30,'ro')"
   ]
  },
  {
   "cell_type": "code",
   "execution_count": null,
   "metadata": {},
   "outputs": [],
   "source": []
  },
  {
   "cell_type": "code",
   "execution_count": 228,
   "metadata": {},
   "outputs": [
    {
     "data": {
      "image/png": "[encoded data removed]",
      "text/plain": [
       "<Figure size 432x288 with 1 Axes>"
      ]
     },
     "metadata": {
      "needs_background": "light"
     },
     "output_type": "display_data"
    }
   ],
   "source": [
    "s6 = mca.Mca(\"G1_TAC_GATED.MCA\")\n",
    "s6.plot()"
   ]
  },
  {
   "cell_type": "code",
   "execution_count": 264,
   "metadata": {},
   "outputs": [
    {
     "data": {
      "image/png": "[encoded data removed]",
      "text/plain": [
       "<Figure size 432x288 with 1 Axes>"
      ]
     },
     "metadata": {
      "needs_background": "light"
     },
     "output_type": "display_data"
    }
   ],
   "source": [
    "x6, y6 = s6.get_points(calibration_method=\"interpolation\")\n",
    "\n",
    "height_peak=626\n",
    "peaks, _ = find_peaks(y6, height=height_peak)\n",
    "plt.plot(x6,y6)\n",
    "plt.plot(x6[peaks], y6[peaks], \"x\")\n",
    "plt.plot(x6,np.zeros_like(y6)+height_peak, \"--\", color=\"gray\")\n",
    "plt.show()\n"
   ]
  },
  {
   "cell_type": "code",
   "execution_count": 273,
   "metadata": {},
   "outputs": [],
   "source": [
    "# print(x6[peaks])"
   ]
  },
  {
   "cell_type": "code",
   "execution_count": 261,
   "metadata": {},
   "outputs": [
    {
     "data": {
      "text/plain": [
       "[<matplotlib.lines.Line2D at 0x7fc18e238bd0>]"
      ]
     },
     "execution_count": 261,
     "metadata": {},
     "output_type": "execute_result"
    },
    {
     "data": {
      "image/png": "[encoded data removed]",
      "text/plain": [
       "<Figure size 432x288 with 1 Axes>"
      ]
     },
     "metadata": {
      "needs_background": "light"
     },
     "output_type": "display_data"
    }
   ],
   "source": [
    "y_no_noise2=np.zeros(y6.shape)\n",
    "y_no_noise1=y6-np.mean(y6[np.logical_and(x6<245 , x6>58)])\n",
    "y_no_noise2[y_no_noise1>0]=y_no_noise1[y_no_noise1>0]\n",
    "plt.plot(x6,y_no_noise2)"
   ]
  },
  {
   "cell_type": "code",
   "execution_count": 296,
   "metadata": {},
   "outputs": [],
   "source": [
    "D2_all_solid_angle_all_time=sum(y_no_noise2) #s6"
   ]
  },
  {
   "cell_type": "code",
   "execution_count": 266,
   "metadata": {},
   "outputs": [
    {
     "data": {
      "text/plain": [
       "80837.24"
      ]
     },
     "execution_count": 266,
     "metadata": {},
     "output_type": "execute_result"
    }
   ],
   "source": [
    "\n",
    "real_time6 = float(s6.get_variable(\"REAL_TIME\"))\n",
    "real_time6"
   ]
  },
  {
   "cell_type": "code",
   "execution_count": 248,
   "metadata": {},
   "outputs": [
    {
     "data": {
      "text/plain": [
       "numpy.ndarray"
      ]
     },
     "execution_count": 248,
     "metadata": {},
     "output_type": "execute_result"
    }
   ],
   "source": []
  },
  {
   "cell_type": "code",
   "execution_count": 274,
   "metadata": {},
   "outputs": [
    {
     "data": {
      "text/plain": [
       "[<matplotlib.lines.Line2D at 0x7fc18e331310>]"
      ]
     },
     "execution_count": 274,
     "metadata": {},
     "output_type": "execute_result"
    },
    {
     "data": {
      "image/png": "[encoded data removed]",
      "text/plain": [
       "<Figure size 432x288 with 1 Axes>"
      ]
     },
     "metadata": {
      "needs_background": "light"
     },
     "output_type": "display_data"
    }
   ],
   "source": [
    "plt.plot(x3,y3)"
   ]
  },
  {
   "cell_type": "code",
   "execution_count": 285,
   "metadata": {},
   "outputs": [
    {
     "name": "stdout",
     "output_type": "stream",
     "text": [
      "[647.47925764] [542.02139738 545.50982533 555.17008734 662.77467249]\n"
     ]
    }
   ],
   "source": [
    "# detector 1 \n",
    "y3_D1=y3[np.logical_and(x3>646,x3<668)]\n",
    "y3_s1=y3_D1[y3_D1>90]\n",
    "print(x3[y3==y3_s1[0]],x3[y3==y3_s1[-1]])\n",
    "# for i in range(1,2*N):\n",
    "    \n",
    "#     print(x3[np.argmax(y3)-N+i],'    ',y3[np.argmax(y3)-N+i])"
   ]
  },
  {
   "cell_type": "code",
   "execution_count": 283,
   "metadata": {},
   "outputs": [
    {
     "data": {
      "image/png": "[encoded data removed]",
      "text/plain": [
       "<Figure size 432x288 with 1 Axes>"
      ]
     },
     "metadata": {
      "needs_background": "light"
     },
     "output_type": "display_data"
    }
   ],
   "source": [
    "s2 = mca.Mca(\"ENERGY_SPECTRUM_D1_BACKGROUND.MCA\")\n",
    "x2, y2 = s2.get_points(calibration_method=\"interpolation\")\n",
    "real_time2 = float(s2.get_variable(\"REAL_TIME\"))\n",
    "s2.plot()"
   ]
  },
  {
   "cell_type": "code",
   "execution_count": 287,
   "metadata": {},
   "outputs": [],
   "source": [
    "y2_D1_noise=y2[np.logical_and(x2>647.47925764,x2<662.77467249)]"
   ]
  },
  {
   "cell_type": "code",
   "execution_count": 292,
   "metadata": {},
   "outputs": [
    {
     "name": "stdout",
     "output_type": "stream",
     "text": [
      "62.613333 73.573333\n"
     ]
    }
   ],
   "source": [
    "print(real_time3,real_time2)"
   ]
  },
  {
   "cell_type": "code",
   "execution_count": 293,
   "metadata": {},
   "outputs": [],
   "source": [
    "y3_no_back=y3_s1-y2_D1_noise*real_time3/real_time2\n",
    "D1_all_area_all_time=sum(y3_no_back)"
   ]
  },
  {
   "cell_type": "code",
   "execution_count": 299,
   "metadata": {},
   "outputs": [
    {
     "data": {
      "text/plain": [
       "1.804365188263788e-06"
      ]
     },
     "execution_count": 299,
     "metadata": {},
     "output_type": "execute_result"
    }
   ],
   "source": [
    "area_D2=np.pi*0.03**2\n",
    "R=0.1\n",
    "solid_angle = area_D2 / R**2\n",
    "area_source = 0.01**2\n",
    "\n",
    "(D2_all_solid_angle_all_time / (real_time6*solid_angle)) / (D1_all_area_all_time / (real_time3*area_source))"
   ]
  },
  {
   "cell_type": "code",
   "execution_count": null,
   "metadata": {},
   "outputs": [],
   "source": []
  }
 ],
 "metadata": {
  "kernelspec": {
   "display_name": "Python 3",
   "language": "python",
   "name": "python3"
  },
  "language_info": {
   "codemirror_mode": {
    "name": "ipython",
    "version": 3
   },
   "file_extension": ".py",
   "mimetype": "text/x-python",
   "name": "python",
   "nbconvert_exporter": "python",
   "pygments_lexer": "ipython3",
   "version": "3.7.6"
  }
 },
 "nbformat": 4,
 "nbformat_minor": 4
}
