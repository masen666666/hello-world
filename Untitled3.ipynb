{
 "cells": [
  {
   "cell_type": "code",
   "execution_count": 5,
   "metadata": {},
   "outputs": [
    {
     "data": {
      "image/png": "[encoded data removed]",
      "text/plain": [
       "<Figure size 432x288 with 1 Axes>"
      ]
     },
     "metadata": {
      "needs_background": "light"
     },
     "output_type": "display_data"
    }
   ],
   "source": [
    "import numpy as np\n",
    "import matplotlib.pyplot as plt\n",
    "w=2\n",
    "func = lambda r:np.exp(-r**2/(2*w**2))/(w*np.sqrt(np.pi))\n",
    "r = np.linspace(-10,10,100)\n",
    "plt.plot(r, func(r))\n",
    "plt.axhline(0,color='Red')\n",
    "plt.grid()\n",
    "plt.xlabel('r')\n",
    "plt.ylabel('phi')\n",
    "plt.show()"
   ]
  },
  {
   "cell_type": "code",
   "execution_count": 28,
   "metadata": {},
   "outputs": [
    {
     "data": {
      "text/plain": [
       "0.9999999999999928"
      ]
     },
     "execution_count": 28,
     "metadata": {},
     "output_type": "execute_result"
    }
   ],
   "source": [
    "import numpy as np\n",
    "import matplotlib.pyplot as plt\n",
    "def r(x,y):\n",
    "    \"\"\"Just for convenience, a function that returns r=sqrt(x^2+y^2)\"\"\"\n",
    "    return np.sqrt(xx**2+yy**2)\n",
    "def psi(r, w):\n",
    "    \"\"\"This Gaussian function should be normalised when integrated over an area\"\"\"\n",
    "    return np.exp(-r**2/(2*w**2))/(w*np.sqrt(np.pi))\n",
    "# We can define the x and y points for our grid\n",
    "x = np.linspace(-10,10,201)\n",
    "y = np.linspace(-10,10,201)\n",
    "# This returns an array of the complete grid\n",
    "xx, yy = np.meshgrid(x,y)\n",
    "# We'll find |psi(r)|^2 at every point on the grid:\n",
    "z = np.abs(psi(r(xx,yy),1))**2\n",
    "z.sum()*((x[1]-x[0])*(y[1]-y[0]))\n"
   ]
  },
  {
   "cell_type": "code",
   "execution_count": 21,
   "metadata": {},
   "outputs": [
    {
     "data": {
      "text/plain": [
       "0.6305321691656142"
      ]
     },
     "execution_count": 21,
     "metadata": {},
     "output_type": "execute_result"
    }
   ],
   "source": [
    "def fmask(r, c):\n",
    "    \"\"\"Define a function that's 1 in a cricle and 0 outside of it\"\"\"\n",
    "    return np.piecewise(r, [r <= c, r > c], [1, 0])\n",
    "x = np.linspace(-10,10,201)\n",
    "y = np.linspace(-10,10,201)\n",
    "xx, yy = np.meshgrid(x,y)\n",
    "# Now we can integrate over just the circle by setting everything outside of it to 0\n",
    "z = psi(np.sqrt(xx**2+yy**2), 1)**2*fmask(xx**2+yy**2)\n",
    "z.sum()*((x[1]-x[0])*(y[1]-y[0]))"
   ]
  },
  {
   "cell_type": "code",
   "execution_count": 38,
   "metadata": {},
   "outputs": [
    {
     "data": {
      "text/plain": [
       "0.6481370525653416"
      ]
     },
     "execution_count": 38,
     "metadata": {},
     "output_type": "execute_result"
    }
   ],
   "source": [
    "import numpy as np\n",
    "from scipy.special import jv, kv\n",
    "def fibre(R):\n",
    "    U=1.5285\n",
    "    W=1.2913\n",
    "    N=1\n",
    "    v=0\n",
    "    A=jv(v,U)/kv(v,W)\n",
    "    return np.piecewise(R, [R <= 1.0, R > 1.0],\n",
    "                        [lambda R:N*(jv(v,U*R)) ,\n",
    "                         lambda R:N*(A*kv(v,W*R))])\n",
    "x = np.linspace(-10,10,201)\n",
    "y = np.linspace(-10,10,201)\n",
    "xx, yy = np.meshgrid(x,y)\n",
    "z = np.abs(fibre(r(xx,yy)))**2\n",
    "pow(1/(z.sum()*((x[1]-x[0])*(y[1]-y[0]))),0.5)"
   ]
  },
  {
   "cell_type": "code",
   "execution_count": 36,
   "metadata": {},
   "outputs": [
    {
     "data": {
      "text/plain": [
       "1.0"
      ]
     },
     "execution_count": 36,
     "metadata": {},
     "output_type": "execute_result"
    }
   ],
   "source": [
    "2.3804896652928806/(z.sum()*((x[1]-x[0])*(y[1]-y[0])))"
   ]
  },
  {
   "cell_type": "code",
   "execution_count": 37,
   "metadata": {},
   "outputs": [
    {
     "data": {
      "text/plain": [
       "0.4200816389080884"
      ]
     },
     "execution_count": 37,
     "metadata": {},
     "output_type": "execute_result"
    }
   ],
   "source": [
    "1/2.380489665292880"
   ]
  },
  {
   "cell_type": "code",
   "execution_count": 39,
   "metadata": {},
   "outputs": [
    {
     "data": {
      "text/plain": [
       "0.39842435163066237"
      ]
     },
     "execution_count": 39,
     "metadata": {},
     "output_type": "execute_result"
    }
   ],
   "source": [
    "import numpy as np\n",
    "from scipy.special import jv, kv\n",
    "def fibre(R):\n",
    "    U=1.5285\n",
    "    W=1.2913\n",
    "    N=0.6481370525653416\n",
    "    v=0\n",
    "    A=jv(v,U)/kv(v,W)\n",
    "    return np.piecewise(R, [R <= 1.0, R > 1.0],\n",
    "                        [lambda R:N*(jv(v,U*R)) ,\n",
    "                         lambda R:N*(A*kv(v,W*R))])\n",
    "x = np.linspace(-10,10,201)\n",
    "y = np.linspace(-10,10,201)\n",
    "xx, yy = np.meshgrid(x,y)\n",
    "z = np.abs(fibre(r(xx,yy)))**2\n",
    "z = psi(np.sqrt(xx**2+yy**2), 1)**2*fibre(xx**2+yy**2)\n",
    "z.sum()*((x[1]-x[0])*(y[1]-y[0]))"
   ]
  },
  {
   "cell_type": "code",
   "execution_count": null,
   "metadata": {},
   "outputs": [],
   "source": []
  }
 ],
 "metadata": {
  "kernelspec": {
   "display_name": "Python 3",
   "language": "python",
   "name": "python3"
  },
  "language_info": {
   "codemirror_mode": {
    "name": "ipython",
    "version": 3
   },
   "file_extension": ".py",
   "mimetype": "text/x-python",
   "name": "python",
   "nbconvert_exporter": "python",
   "pygments_lexer": "ipython3",
   "version": "3.7.7"
  }
 },
 "nbformat": 4,
 "nbformat_minor": 4
}
