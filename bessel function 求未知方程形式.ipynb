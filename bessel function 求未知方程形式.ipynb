{
 "cells": [
  {
   "cell_type": "code",
   "execution_count": 1,
   "metadata": {},
   "outputs": [
    {
     "name": "stdout",
     "output_type": "stream",
     "text": [
      "     2                                        \n",
      " 2  d            d          ⎛ 2    2⎞         \n",
      "s ⋅───(f(s)) + s⋅──(f(s)) + ⎝s  - v ⎠⋅f(s) = 0\n",
      "     2           ds                           \n",
      "   ds                                         \n",
      "                 ⎛   ____   ⎞             ⎛   ____   ⎞\n",
      "                 ⎜  ╱  2    ⎟             ⎜  ╱  2    ⎟\n",
      "f(s) = C₁⋅besselj⎝╲╱  v  , s⎠ + C₂⋅bessely⎝╲╱  v  , s⎠\n"
     ]
    }
   ],
   "source": [
    "from sympy import Function,Eq,pprint,dsolve,symbols\n",
    "s,v=symbols('s v')\n",
    "f=Function('f')(s)\n",
    "z1=Eq((s**2)*f.diff(s,s) + s*f.diff(s) + (s**2 - v**2)*f,0)\n",
    "print(z1)\n",
    "print(dsolve(z1,f))"
   ]
  },
  {
   "cell_type": "code",
   "execution_count": 2,
   "metadata": {},
   "outputs": [],
   "source": [
    "z2=dsolve(z1,f)"
   ]
  },
  {
   "cell_type": "code",
   "execution_count": 3,
   "metadata": {},
   "outputs": [
    {
     "data": {
      "text/latex": [
       "$\\displaystyle f{\\left(s \\right)} = C_{1} J_{\\sqrt{v^{2}}}\\left(s\\right) + C_{2} Y_{\\sqrt{v^{2}}}\\left(s\\right)$"
      ],
      "text/plain": [
       "Eq(f(s), C1*besselj(sqrt(v**2), s) + C2*bessely(sqrt(v**2), s))"
      ]
     },
     "execution_count": 3,
     "metadata": {},
     "output_type": "execute_result"
    }
   ],
   "source": [
    "z2"
   ]
  },
  {
   "cell_type": "code",
   "execution_count": 9,
   "metadata": {},
   "outputs": [
    {
     "name": "stdout",
     "output_type": "stream",
     "text": [
      "Eq(r*Q(t)/100 - r/4 + Derivative(Q(t), t), 0)\n",
      "Eq(Q(t), C1*exp(-r*t/100) + 25)\n"
     ]
    }
   ],
   "source": [
    "from sympy import Function,Eq,pprint,dsolve,symbols,solve,exp\n",
    "r,t=symbols('r t')\n",
    "f=Function('Q')(t)\n",
    "z1=Eq(f.diff(t) + r*f/100 - r/4,0)\n",
    "print(z1)\n",
    "print(dsolve(z1,f))"
   ]
  },
  {
   "cell_type": "code",
   "execution_count": 17,
   "metadata": {},
   "outputs": [
    {
     "data": {
      "text/plain": [
       "[Q0 - 25]"
      ]
     },
     "execution_count": 17,
     "metadata": {},
     "output_type": "execute_result"
    }
   ],
   "source": [
    "QL,Q0,x=symbols('QL Q0 x')\n",
    "solve(x*exp(-r*0/100) + 25-Q0,x)"
   ]
  },
  {
   "cell_type": "code",
   "execution_count": 19,
   "metadata": {},
   "outputs": [
    {
     "data": {
      "text/plain": [
       "[100.0*log(10.7721734501594*(0.08*QL/(QL - 1250.0) - 1/(QL - 1250.0))**(1/3)),\n",
       " 100.0*log(-5.38608672507971*(0.08*QL/(QL - 1250.0) - 1/(QL - 1250.0))**(1/3) - 9.32897586181032*I*(0.08*QL/(QL - 1250.0) - 1/(QL - 1250.0))**(1/3)),\n",
       " 100.0*log(-5.38608672507971*(0.08*QL/(QL - 1250.0) - 1/(QL - 1250.0))**(1/3) + 9.32897586181032*I*(0.08*QL/(QL - 1250.0) - 1/(QL - 1250.0))**(1/3))]"
      ]
     },
     "execution_count": 19,
     "metadata": {},
     "output_type": "execute_result"
    }
   ],
   "source": [
    "solve(((2*QL-25)*exp(-3*t/100) + 25-0.02*QL),t)\n"
   ]
  },
  {
   "cell_type": "code",
   "execution_count": null,
   "metadata": {},
   "outputs": [],
   "source": []
  }
 ],
 "metadata": {
  "kernelspec": {
   "display_name": "Python 3",
   "language": "python",
   "name": "python3"
  },
  "language_info": {
   "codemirror_mode": {
    "name": "ipython",
    "version": 3
   },
   "file_extension": ".py",
   "mimetype": "text/x-python",
   "name": "python",
   "nbconvert_exporter": "python",
   "pygments_lexer": "ipython3",
   "version": "3.7.7"
  }
 },
 "nbformat": 4,
 "nbformat_minor": 4
}
