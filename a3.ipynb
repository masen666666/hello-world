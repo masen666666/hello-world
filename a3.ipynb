{
 "cells": [
  {
   "cell_type": "code",
   "execution_count": 5,
   "metadata": {},
   "outputs": [
    {
     "data": {
      "image/png": "[encoded data removed]",
      "text/plain": [
       "<Figure size 432x288 with 1 Axes>"
      ]
     },
     "metadata": {
      "needs_background": "light"
     },
     "output_type": "display_data"
    }
   ],
   "source": [
    "import numpy as np\n",
    "import matplotlib.pyplot as plt\n",
    "w=2\n",
    "func = lambda r:np.exp(-r**2/(2*w**2))/(w*np.sqrt(np.pi))\n",
    "r = np.linspace(-10,10,100)\n",
    "plt.plot(r, func(r))\n",
    "plt.axhline(0,color='Red')\n",
    "plt.grid()\n",
    "plt.xlabel('r')\n",
    "plt.ylabel('phi')\n",
    "plt.show()"
   ]
  },
  {
   "cell_type": "code",
   "execution_count": 28,
   "metadata": {},
   "outputs": [
    {
     "data": {
      "text/plain": [
       "0.9999999999999928"
      ]
     },
     "execution_count": 28,
     "metadata": {},
     "output_type": "execute_result"
    }
   ],
   "source": [
    "import numpy as np\n",
    "import matplotlib.pyplot as plt\n",
    "def r(xx,yy):\n",
    "    \"\"\"Just for convenience, a function that returns r=sqrt(x^2+y^2)\"\"\"\n",
    "    return np.sqrt(xx**2+yy**2)\n",
    "def psi(r, w):\n",
    "    \"\"\"This Gaussian function should be normalised when integrated over an area\"\"\"\n",
    "    return np.exp(-r**2/(2*w**2))/(w*np.sqrt(np.pi))\n",
    "# We can define the x and y points for our grid\n",
    "x = np.linspace(-10,10,201)\n",
    "y = np.linspace(-10,10,201)\n",
    "# This returns an array of the complete grid\n",
    "xx, yy = np.meshgrid(x,y)\n",
    "# We'll find |psi(r)|^2 at every point on the grid:\n",
    "z = np.abs(psi(r(xx,yy),1))**2\n",
    "z.sum()*((x[1]-x[0])*(y[1]-y[0]))\n"
   ]
  },
  {
   "cell_type": "code",
   "execution_count": 21,
   "metadata": {},
   "outputs": [
    {
     "data": {
      "text/plain": [
       "0.6305321691656142"
      ]
     },
     "execution_count": 21,
     "metadata": {},
     "output_type": "execute_result"
    }
   ],
   "source": [
    "def fmask(r, c):\n",
    "    \"\"\"Define a function that's 1 in a cricle and 0 outside of it\"\"\"\n",
    "    return np.piecewise(r, [r <= c, r > c], [1, 0])\n",
    "x = np.linspace(-10,10,201)\n",
    "y = np.linspace(-10,10,201)\n",
    "xx, yy = np.meshgrid(x,y)\n",
    "# Now we can integrate over just the circle by setting everything outside of it to 0\n",
    "z = psi(np.sqrt(xx**2+yy**2), 1)**2*fmask(xx**2+yy**2)\n",
    "z.sum()*((x[1]-x[0])*(y[1]-y[0]))"
   ]
  },
  {
   "cell_type": "code",
   "execution_count": 1,
   "metadata": {},
   "outputs": [
    {
     "ename": "NameError",
     "evalue": "name 'r' is not defined",
     "output_type": "error",
     "traceback": [
      "\u001b[1;31m---------------------------------------------------------------------------\u001b[0m",
      "\u001b[1;31mNameError\u001b[0m                                 Traceback (most recent call last)",
      "\u001b[1;32m<ipython-input-1-1b4c7e5eecb8>\u001b[0m in \u001b[0;36m<module>\u001b[1;34m\u001b[0m\n\u001b[0;32m     13\u001b[0m \u001b[0my\u001b[0m \u001b[1;33m=\u001b[0m \u001b[0mnp\u001b[0m\u001b[1;33m.\u001b[0m\u001b[0mlinspace\u001b[0m\u001b[1;33m(\u001b[0m\u001b[1;33m-\u001b[0m\u001b[1;36m10\u001b[0m\u001b[1;33m,\u001b[0m\u001b[1;36m10\u001b[0m\u001b[1;33m,\u001b[0m\u001b[1;36m201\u001b[0m\u001b[1;33m)\u001b[0m\u001b[1;33m\u001b[0m\u001b[1;33m\u001b[0m\u001b[0m\n\u001b[0;32m     14\u001b[0m \u001b[0mxx\u001b[0m\u001b[1;33m,\u001b[0m \u001b[0myy\u001b[0m \u001b[1;33m=\u001b[0m \u001b[0mnp\u001b[0m\u001b[1;33m.\u001b[0m\u001b[0mmeshgrid\u001b[0m\u001b[1;33m(\u001b[0m\u001b[0mx\u001b[0m\u001b[1;33m,\u001b[0m\u001b[0my\u001b[0m\u001b[1;33m)\u001b[0m\u001b[1;33m\u001b[0m\u001b[1;33m\u001b[0m\u001b[0m\n\u001b[1;32m---> 15\u001b[1;33m \u001b[0mz\u001b[0m \u001b[1;33m=\u001b[0m \u001b[0mnp\u001b[0m\u001b[1;33m.\u001b[0m\u001b[0mabs\u001b[0m\u001b[1;33m(\u001b[0m\u001b[0mfibre\u001b[0m\u001b[1;33m(\u001b[0m\u001b[0mr\u001b[0m\u001b[1;33m(\u001b[0m\u001b[0mxx\u001b[0m\u001b[1;33m,\u001b[0m\u001b[0myy\u001b[0m\u001b[1;33m)\u001b[0m\u001b[1;33m)\u001b[0m\u001b[1;33m)\u001b[0m\u001b[1;33m**\u001b[0m\u001b[1;36m2\u001b[0m\u001b[1;33m\u001b[0m\u001b[1;33m\u001b[0m\u001b[0m\n\u001b[0m\u001b[0;32m     16\u001b[0m \u001b[0mpow\u001b[0m\u001b[1;33m(\u001b[0m\u001b[1;36m1\u001b[0m\u001b[1;33m/\u001b[0m\u001b[1;33m(\u001b[0m\u001b[0mz\u001b[0m\u001b[1;33m.\u001b[0m\u001b[0msum\u001b[0m\u001b[1;33m(\u001b[0m\u001b[1;33m)\u001b[0m\u001b[1;33m*\u001b[0m\u001b[1;33m(\u001b[0m\u001b[1;33m(\u001b[0m\u001b[0mx\u001b[0m\u001b[1;33m[\u001b[0m\u001b[1;36m1\u001b[0m\u001b[1;33m]\u001b[0m\u001b[1;33m-\u001b[0m\u001b[0mx\u001b[0m\u001b[1;33m[\u001b[0m\u001b[1;36m0\u001b[0m\u001b[1;33m]\u001b[0m\u001b[1;33m)\u001b[0m\u001b[1;33m*\u001b[0m\u001b[1;33m(\u001b[0m\u001b[0my\u001b[0m\u001b[1;33m[\u001b[0m\u001b[1;36m1\u001b[0m\u001b[1;33m]\u001b[0m\u001b[1;33m-\u001b[0m\u001b[0my\u001b[0m\u001b[1;33m[\u001b[0m\u001b[1;36m0\u001b[0m\u001b[1;33m]\u001b[0m\u001b[1;33m)\u001b[0m\u001b[1;33m)\u001b[0m\u001b[1;33m)\u001b[0m\u001b[1;33m,\u001b[0m\u001b[1;36m0.5\u001b[0m\u001b[1;33m)\u001b[0m\u001b[1;33m\u001b[0m\u001b[1;33m\u001b[0m\u001b[0m\n",
      "\u001b[1;31mNameError\u001b[0m: name 'r' is not defined"
     ]
    }
   ],
   "source": [
    "import numpy as np\n",
    "from scipy.special import jv, kv\n",
    "def fibre(R):\n",
    "    U=1.5285\n",
    "    W=1.2913\n",
    "    N=1\n",
    "    v=0\n",
    "    A=jv(v,U)/kv(v,W)\n",
    "    return np.piecewise(R, [R <= 1.0, R > 1.0],\n",
    "                        [lambda R:N*(jv(v,U*R)) ,\n",
    "                         lambda R:N*(A*kv(v,W*R))])\n",
    "x = np.linspace(-10,10,201)\n",
    "y = np.linspace(-10,10,201)\n",
    "xx, yy = np.meshgrid(x,y)\n",
    "z = np.abs(fibre(r(xx,yy)))**2\n",
    "pow(1/(z.sum()*((x[1]-x[0])*(y[1]-y[0]))),0.5)"
   ]
  },
  {
   "cell_type": "code",
   "execution_count": 36,
   "metadata": {},
   "outputs": [
    {
     "data": {
      "text/plain": [
       "1.0"
      ]
     },
     "execution_count": 36,
     "metadata": {},
     "output_type": "execute_result"
    }
   ],
   "source": [
    "2.3804896652928806/(z.sum()*((x[1]-x[0])*(y[1]-y[0])))"
   ]
  },
  {
   "cell_type": "code",
   "execution_count": 37,
   "metadata": {},
   "outputs": [
    {
     "data": {
      "text/plain": [
       "0.4200816389080884"
      ]
     },
     "execution_count": 37,
     "metadata": {},
     "output_type": "execute_result"
    }
   ],
   "source": [
    "1/2.3804896652928806\n"
   ]
  },
  {
   "cell_type": "code",
   "execution_count": 39,
   "metadata": {},
   "outputs": [
    {
     "data": {
      "text/plain": [
       "0.39842435163066237"
      ]
     },
     "execution_count": 39,
     "metadata": {},
     "output_type": "execute_result"
    }
   ],
   "source": [
    "import numpy as np\n",
    "from scipy.special import jv, kv\n",
    "def fibre(R):\n",
    "    U=1.5285\n",
    "    W=1.2913\n",
    "    N=0.6481370525653416\n",
    "    v=0\n",
    "    A=jv(v,U)/kv(v,W)\n",
    "    return np.piecewise(R, [R <= 1.0, R > 1.0],\n",
    "                        [lambda R:N*(jv(v,U*R)) ,\n",
    "                         lambda R:N*(A*kv(v,W*R))])\n",
    "x = np.linspace(-10,10,201)\n",
    "y = np.linspace(-10,10,201)\n",
    "xx, yy = np.meshgrid(x,y)\n",
    "z = np.abs(fibre(r(xx,yy)))**2\n",
    "z = psi(np.sqrt(xx**2+yy**2), 1)**2*fibre(xx**2+yy**2)\n",
    "z.sum()*((x[1]-x[0])*(y[1]-y[0]))"
   ]
  },
  {
   "cell_type": "code",
   "execution_count": 40,
   "metadata": {},
   "outputs": [
    {
     "name": "stdout",
     "output_type": "stream",
     "text": [
      "0.9916265920491507with mode radius at[0.88972018]\n"
     ]
    }
   ],
   "source": [
    "import numpy as np\n",
    "from scipy.special import jv, kv\n",
    "from scipy import optimize, integrate\n",
    "def fibre(R,T):\n",
    "    U=1.5285\n",
    "    W=1.2913\n",
    "    N=0.6481370525653416\n",
    "    v=0\n",
    "    A=jv(v,U)/kv(v,W)\n",
    "    return np.piecewise(R, [R <= 1.0, R > 1.0],\n",
    "                        [lambda R:N*(jv(v,U*R)) ,\n",
    "                         lambda R:N*(A*kv(v,W*R))])\n",
    "def psi(r,w,T):\n",
    "    return np.exp(-r**2/(2*w**2))/(w*np.sqrt(np.pi))\n",
    "\n",
    "def test(w):\n",
    "    integrand=lambda R,T:fibre(R,T)*psi(R,w,T)*R\n",
    "    intgrl, abserr= integrate.dblquad(integrand,0,2*np.pi,0,np.inf)\n",
    "    minr=1-intgrl\n",
    "    return minr\n",
    "result=optimize.minimize(test,0.5)\n",
    "print(str((1-result.fun)**2)+'with mode radius at'+str(result.x))"
   ]
  },
  {
   "cell_type": "code",
   "execution_count": 43,
   "metadata": {},
   "outputs": [],
   "source": [
    "import numpy as np\n",
    "from scipy.special import jv, kv\n",
    "from scipy import optimize, integrate\n",
    "def fibre(R,T):\n",
    "    U=1.5285\n",
    "    W=1.2913\n",
    "    N=0.6481370525653416\n",
    "    v=0\n",
    "    A=jv(v,U)/kv(v,W)\n",
    "    return np.piecewise(R, [R <= 1.0, R > 1.0],\n",
    "                        [lambda R:N*(jv(v,U*R)) ,\n",
    "                         lambda R:N*(A*kv(v,W*R))])\n",
    "def psi(r,w,T):\n",
    "    return np.exp(-r**2/(2*w**2))/(w*np.sqrt(np.pi))\n",
    "\n",
    "def test(w):\n",
    "    integrand=lambda R,T:fibre(R,T)*psi(R,w,T)*R\n",
    "    intgrl, abserr= integrate.dblquad(integrand,0,2*np.pi,0,np.inf)\n",
    "    minr=1-intgrl\n",
    "    return minr\n",
    "result=optimize.minimize(test,0.5)"
   ]
  },
  {
   "cell_type": "code",
   "execution_count": 44,
   "metadata": {},
   "outputs": [
    {
     "data": {
      "text/plain": [
       "0.9579049199999999"
      ]
     },
     "execution_count": 44,
     "metadata": {},
     "output_type": "execute_result"
    }
   ],
   "source": [
    "0.99162*0.966"
   ]
  },
  {
   "cell_type": "code",
   "execution_count": 40,
   "metadata": {},
   "outputs": [],
   "source": [
    "#Q3\n",
    "import numpy as np\n",
    "from scipy.optimize import fsolve\n",
    "from scipy import  integrate\n",
    "rho=6e-6\n",
    "NA=0.13\n",
    "nco=1.5\n",
    "L=20e-6\n",
    "wl=633e-9\n",
    "k=2*np.pi/wl\n",
    "ncl=np.sqrt(nco**2-NA**2)\n",
    "V=rho*2*np.pi/wl*pow((nco**2-ncl**2),0.5)\n",
    "w=rho/np.sqrt(2*np.log(V))\n",
    "N1=5.256347080479378e-05\n",
    "def psi(r,w):\n",
    "    return np.exp(-r**2/(2*w**2))/(w*np.sqrt(np.pi))\n",
    "pow(1/(z.sum()*((x[1]-x[0])*(y[1]-y[0]))),0.5)\n",
    "integrand=lambda x,y:N1**2*(np.exp(-(x**2+y**2)/(2*w**2))/(w*np.sqrt(np.pi)))*np.exp(-((x-(20e-6))**2+y**2)/(2*w**2))/(w*np.sqrt(np.pi))\n",
    "ding=lambda x: np.sqrt(np.abs((36e-12)-(x-(20e-6))**2))\n",
    "di=lambda x:-np.sqrt(np.abs((36e-12)-(x-(20e-6))**2))\n",
    "intgrl, abserr= integrate.dblquad(integrand,(14e-6),(26e-6),di,ding)\n",
    "C=k*(nco-ncl)*intgrl\n"
   ]
  },
  {
   "cell_type": "code",
   "execution_count": 42,
   "metadata": {},
   "outputs": [
    {
     "data": {
      "text/plain": [
       "2.7657186532766546e-24"
      ]
     },
     "execution_count": 42,
     "metadata": {},
     "output_type": "execute_result"
    }
   ],
   "source": [
    "C"
   ]
  },
  {
   "cell_type": "code",
   "execution_count": 43,
   "metadata": {},
   "outputs": [],
   "source": [
    "func=lambda z:(np.sin(C*z))**2-0.5\n",
    "Z=fsolve(func, 0.1)[0]"
   ]
  },
  {
   "cell_type": "code",
   "execution_count": 44,
   "metadata": {},
   "outputs": [
    {
     "data": {
      "text/plain": [
       "5.0"
      ]
     },
     "execution_count": 44,
     "metadata": {},
     "output_type": "execute_result"
    }
   ],
   "source": [
    "Z"
   ]
  },
  {
   "cell_type": "code",
   "execution_count": 36,
   "metadata": {},
   "outputs": [
    {
     "data": {
      "text/plain": [
       "5.256347080479378e-05"
      ]
     },
     "execution_count": 36,
     "metadata": {},
     "output_type": "execute_result"
    }
   ],
   "source": [
    "import numpy as np\n",
    "from scipy.optimize import fsolve\n",
    "from scipy import  integrate\n",
    "def r(x,y):\n",
    "    return np.sqrt(xx**2+yy**2)\n",
    "rho=6e-6\n",
    "NA=0.13\n",
    "nco=1.5\n",
    "L=20e-6\n",
    "wl=633e-9\n",
    "k=2*np.pi/wl\n",
    "ncl=np.sqrt(nco**2-NA**2)\n",
    "V=rho*2*np.pi/wl*pow((nco**2-ncl**2),0.5)\n",
    "w=rho/np.sqrt(2*np.log(V))\n",
    "def psi(r,w):\n",
    "    return np.exp(-r**2/(2*w**2))/(w*np.sqrt(np.pi))\n",
    "x = np.linspace(-10,10,201)\n",
    "y = np.linspace(-10,10,201)\n",
    "xx, yy = np.meshgrid(x,y)\n",
    "z = np.abs(psi(r(xx,yy),w))**2\n",
    "pow(1/(z.sum()*((x[1]-x[0])*(y[1]-y[0]))),0.5)\n",
    "\n"
   ]
  },
  {
   "cell_type": "code",
   "execution_count": null,
   "metadata": {},
   "outputs": [
    {
     "name": "stdout",
     "output_type": "stream",
     "text": [
      "17.9868444946377\n",
      "0.0 dBm\n",
      "10⋅log(NA)\n",
      "──────────\n",
      " log(10)  \n"
     ]
    }
   ],
   "source": [
    "import numpy as np\n",
    "from sympy.abc import z\n",
    "from sympy import Abs,Piecewise,sqrt, exp,pi,sin,cos,pprint, symbols,log\n",
    "from sympy import I, oo, erfc,Symbol, solve ,Eq,erfcinv\n",
    "from scipy import special\n",
    "r=0.25 #m\n",
    "L=6.5e6 #m\n",
    "wl=1550e-9 #m\n",
    "at=0.3e-3 #db/m\n",
    "ata=0.2e-3 #db/m\n",
    "F=5 #dB\n",
    "c=3e8 \n",
    "Pin=1 # mW\n",
    "NA=symbols('NA')\n",
    "\n",
    "OSNR=(special.erfcinv(2e-9))**2\n",
    "print(OSNR)\n",
    "Pindbm=10*np.log10(Pin)\n",
    "print(Pindbm,'dBm')\n",
    "NAdB=10 *(log(NA)/log(10))\n",
    "G=at*L/NA+0.2\n",
    "pprint(NAdB)\n",
    "solve(Pindbm-NAdB-F-G+58-17.99,NA)\n",
    "print(NA)"
   ]
  },
  {
   "cell_type": "code",
   "execution_count": 2,
   "metadata": {},
   "outputs": [
    {
     "data": {
      "image/png": "[encoded data removed]",
      "text/plain": [
       "<Figure size 432x288 with 1 Axes>"
      ]
     },
     "metadata": {
      "needs_background": "light"
     },
     "output_type": "display_data"
    },
    {
     "data": {
      "text/plain": [
       "<sympy.plotting.plot.Plot at 0x241221f9108>"
      ]
     },
     "execution_count": 2,
     "metadata": {},
     "output_type": "execute_result"
    }
   ],
   "source": [
    "import numpy as np\n",
    "from sympy.abc import z,x\n",
    "from sympy import Abs,Piecewise,sqrt, exp,pi,sin,cos,pprint, symbols,log,sinc\n",
    "from sympy import I, oo, erfc,Symbol, solve ,Eq,erfcinv\n",
    "from scipy import special\n",
    "from sympy.plotting import plot\n",
    "plot(sinc(x),(x,-20,20))"
   ]
  },
  {
   "cell_type": "code",
   "execution_count": null,
   "metadata": {},
   "outputs": [],
   "source": [
    "pl"
   ]
  }
 ],
 "metadata": {
  "kernelspec": {
   "display_name": "Python 3",
   "language": "python",
   "name": "python3"
  },
  "language_info": {
   "codemirror_mode": {
    "name": "ipython",
    "version": 3
   },
   "file_extension": ".py",
   "mimetype": "text/x-python",
   "name": "python",
   "nbconvert_exporter": "python",
   "pygments_lexer": "ipython3",
   "version": "3.7.7"
  }
 },
 "nbformat": 4,
 "nbformat_minor": 4
}
