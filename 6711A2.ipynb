{
 "cells": [
  {
   "cell_type": "code",
   "execution_count": 9,
   "id": "b6e98c8e",
   "metadata": {},
   "outputs": [],
   "source": [
    "import numpy as np\n",
    "import math"
   ]
  },
  {
   "cell_type": "markdown",
   "id": "426005b4",
   "metadata": {},
   "source": [
    "### constant"
   ]
  },
  {
   "cell_type": "code",
   "execution_count": 34,
   "id": "11bd40d6",
   "metadata": {},
   "outputs": [],
   "source": [
    "# elementary charge (C)\n",
    "Q_e=1.6e-19\n",
    "# light speed in vacuum (m/s)\n",
    "C=3e8\n",
    "h= 6.62607015e-34\n",
    "k=1.38e-23\n"
   ]
  },
  {
   "cell_type": "markdown",
   "id": "5f180283",
   "metadata": {},
   "source": [
    "#### unit transfer "
   ]
  },
  {
   "cell_type": "code",
   "execution_count": 10,
   "id": "5472d162",
   "metadata": {},
   "outputs": [
    {
     "data": {
      "text/plain": [
       "2.0"
      ]
     },
     "execution_count": 10,
     "metadata": {},
     "output_type": "execute_result"
    }
   ],
   "source": [
    "# temperature\n",
    "# T_K=T_C+273.15\n"
   ]
  },
  {
   "cell_type": "markdown",
   "id": "49b1795c",
   "metadata": {},
   "source": [
    "#### math operator"
   ]
  },
  {
   "cell_type": "code",
   "execution_count": 33,
   "id": "f0f08653",
   "metadata": {},
   "outputs": [],
   "source": [
    "# math.sqrt(4)\n",
    "# math.log10(10)\n",
    "# math.log(np.e)\n",
    "# math.log(4,2) base 2\n",
    "# np.pi\n",
    "# np.e\n",
    "# np.angle(z, deg=0)  #deg=0,default,in radians.\n"
   ]
  },
  {
   "cell_type": "markdown",
   "id": "310f6c50",
   "metadata": {},
   "source": [
    "#### noise"
   ]
  },
  {
   "cell_type": "code",
   "execution_count": 38,
   "id": "788a09da",
   "metadata": {},
   "outputs": [
    {
     "data": {
      "text/plain": [
       "1.7888543819998318e-08"
      ]
     },
     "execution_count": 38,
     "metadata": {},
     "output_type": "execute_result"
    }
   ],
   "source": [
    "# thermal noise /johnson's noise\n",
    "\n",
    "# T=300  # K\n",
    "# R= 1000 #ohms\n",
    "# delta_f = 1000\n",
    "# V_RMS=np.sqrt(4*k*T*R*delta_f)\n",
    "# # ~N(mean=0,sigma=V_RMS)\n",
    "\n",
    "\n",
    "# shot noise\n",
    "I_ave=1\n",
    "I_RMS=np.sqrt(2*I_ave*Q_e*delta_f)\n",
    "##~N(mean=I_ave,sigma=I_RMS)\n"
   ]
  },
  {
   "cell_type": "code",
   "execution_count": null,
   "id": "1df8c9f3",
   "metadata": {},
   "outputs": [],
   "source": []
  },
  {
   "cell_type": "code",
   "execution_count": null,
   "id": "83b98eb2",
   "metadata": {},
   "outputs": [],
   "source": []
  },
  {
   "cell_type": "code",
   "execution_count": 22,
   "id": "6973826f",
   "metadata": {},
   "outputs": [],
   "source": [
    "f=2\n",
    "C=1\n",
    "L=1\n",
    "omega=2*np.pi*f\n",
    "Z_C=-1/(omega*C)*1j\n",
    "Z_L=omega*L*1j"
   ]
  },
  {
   "cell_type": "code",
   "execution_count": 26,
   "id": "d19701c6",
   "metadata": {},
   "outputs": [
    {
     "data": {
      "text/plain": [
       "-1.0"
      ]
     },
     "execution_count": 26,
     "metadata": {},
     "output_type": "execute_result"
    }
   ],
   "source": [
    "# fn=fs/2"
   ]
  },
  {
   "cell_type": "code",
   "execution_count": 29,
   "id": "2d7f5248",
   "metadata": {},
   "outputs": [
    {
     "data": {
      "text/plain": [
       "90.0"
      ]
     },
     "execution_count": 29,
     "metadata": {},
     "output_type": "execute_result"
    }
   ],
   "source": [
    "V=1\n",
    "I=V/Z_C\n",
    "np.angle(I,deg=1)"
   ]
  },
  {
   "cell_type": "code",
   "execution_count": 39,
   "id": "34daa805",
   "metadata": {},
   "outputs": [
    {
     "data": {
      "text/plain": [
       "0.9500042097035591"
      ]
     },
     "execution_count": 39,
     "metadata": {},
     "output_type": "execute_result"
    }
   ],
   "source": [
    "x=1.96\n",
    "Q_x=1/2*math.erfc(x/math.sqrt(2))\n",
    "# confidence interval\n",
    "P_confident=1-2*Q_x\n",
    "P_confident"
   ]
  },
  {
   "cell_type": "code",
   "execution_count": 31,
   "id": "a15ec078",
   "metadata": {},
   "outputs": [
    {
     "data": {
      "text/plain": [
       "0.5"
      ]
     },
     "execution_count": 31,
     "metadata": {},
     "output_type": "execute_result"
    }
   ],
   "source": []
  },
  {
   "cell_type": "code",
   "execution_count": null,
   "id": "d4552ec5",
   "metadata": {},
   "outputs": [],
   "source": []
  }
 ],
 "metadata": {
  "kernelspec": {
   "display_name": "Python 3",
   "language": "python",
   "name": "python3"
  },
  "language_info": {
   "codemirror_mode": {
    "name": "ipython",
    "version": 3
   },
   "file_extension": ".py",
   "mimetype": "text/x-python",
   "name": "python",
   "nbconvert_exporter": "python",
   "pygments_lexer": "ipython3",
   "version": "3.8.2"
  }
 },
 "nbformat": 4,
 "nbformat_minor": 5
}
