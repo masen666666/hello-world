{
 "cells": [
  {
   "cell_type": "code",
   "execution_count": 2,
   "id": "1da04b00",
   "metadata": {},
   "outputs": [],
   "source": [
    "import sympy as sy\n",
    "import numpy as np"
   ]
  },
  {
   "cell_type": "code",
   "execution_count": 4,
   "id": "5e730a81",
   "metadata": {},
   "outputs": [
    {
     "name": "stdout",
     "output_type": "stream",
     "text": [
      "[9.79981992270021]\n"
     ]
    }
   ],
   "source": [
    "\n",
    "x,y,a=sy.symbols('x,y,a')\n",
    "sigma=5\n",
    "mean = 31.5\n",
    "gaussian=1/(sigma*sy.sqrt(2*sy.pi))*sy.E**(-(x-mean)**2/(2*sigma**2))\n",
    "Integ=sy.integrate(gaussian,(x,mean-a,mean+a))\n",
    "z1=sy.Eq(Integ,0.95)\n",
    "sy.pprint(sy.solve(z1))"
   ]
  }
 ],
 "metadata": {
  "kernelspec": {
   "display_name": "Python 3",
   "language": "python",
   "name": "python3"
  },
  "language_info": {
   "codemirror_mode": {
    "name": "ipython",
    "version": 3
   },
   "file_extension": ".py",
   "mimetype": "text/x-python",
   "name": "python",
   "nbconvert_exporter": "python",
   "pygments_lexer": "ipython3",
   "version": "3.8.2"
  }
 },
 "nbformat": 4,
 "nbformat_minor": 5
}
